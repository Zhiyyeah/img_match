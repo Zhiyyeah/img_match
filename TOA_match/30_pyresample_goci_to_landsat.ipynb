{
 "cells": [
  {
   "cell_type": "markdown",
   "id": "e4d25fa7",
   "metadata": {},
   "source": [
    "# 使用 pyresample 将弯曲网格 GOCI 子集重采样到 Landsat 规则网格\n",
    "\n",
    "本 Notebook 以教学方式演示：\n",
    "1. 读取已经按 Landsat footprint 精确裁剪后的 GOCI 子集（弯曲/曲线网格: curvilinear lat/lon）。\n",
    "2. 读取 Landsat 多波段 TOA 辐亮度 GeoTIFF（规则栅格）。\n",
    "3. 利用 `pyresample` 将 GOCI 五个波段插值/匹配到 Landsat 像元中心网格（两种算法：最近邻 / 高斯加权）。\n",
    "4. 输出结果：多波段 GeoTIFF（主输出）与可选的逐波段 `.npy` 数组及元数据 JSON。\n",
    "5. 做统计与可视化：差值统计、直方图、示例空间图。\n",
    "6. 给出性能与内存优化提示，并封装 `run_all()` 供一键复现。\n",
    "\n",
    "> 建议按顺序逐节运行与阅读。你可以先了解参数，再尝试修改重采样算法与半径。"
   ]
  },
  {
   "cell_type": "markdown",
   "id": "5ce13323",
   "metadata": {},
   "source": [
    "## 1. 安装与导入库\n",
    "如果你的环境还没有安装 `pyresample`, `rasterio`, `netCDF4`，运行下一单元进行安装。已安装可重复执行（pip 会跳过）。"
   ]
  },
  {
   "cell_type": "code",
   "execution_count": 2,
   "id": "c45f8d7c",
   "metadata": {},
   "outputs": [
    {
     "name": "stdout",
     "output_type": "stream",
     "text": [
      "库导入完成。\n"
     ]
    }
   ],
   "source": [
    "# 安装可能缺失的库（静默）\n",
    "\n",
    "import os, json, time, math\n",
    "import numpy as np\n",
    "import rasterio\n",
    "from rasterio.transform import Affine\n",
    "from rasterio.crs import CRS\n",
    "from netCDF4 import Dataset\n",
    "import matplotlib.pyplot as plt\n",
    "from pyproj import Transformer\n",
    "from pyresample import geometry, kd_tree\n",
    "\n",
    "plt.style.use('seaborn-v0_8-darkgrid')\n",
    "plt.rcParams['figure.dpi'] = 130\n",
    "print('库导入完成。')"
   ]
  },
  {
   "cell_type": "markdown",
   "id": "54b0dfa6",
   "metadata": {},
   "source": [
    "## 2. 定义输入输出路径与参数\n",
    "可以根据自己文件布局调整。重采样方法可以切换：`USE_GAUSSIAN=False` 表示最近邻 (KD-tree)；True 则使用高斯加权。半径参数需要根据 GOCI 原始分辨率（约 500 m）和 Landsat 30 m 调整。"
   ]
  },
  {
   "cell_type": "code",
   "execution_count": 3,
   "id": "9edb64d6",
   "metadata": {},
   "outputs": [],
   "source": [
    "# ---- 路径与参数可修改 ----\n",
    "GOCI_NC = '../goci_subset_5bands.nc'  # 由裁剪脚本 20_goci_subset_rectangle.py 生成\n",
    "LANDSAT_TIF = '../SR_Imagery/LC09_L1TP_116035_20250504_20250504_02_T1/LC09_L1TP_116035_20250504_20250504_02_T1_TOA_RAD_B1-2-3-4-5.tif'\n",
    "OUT_TIF = '/goci_resampled_to_landsat.tif'\n",
    "SAVE_NPY = True\n",
    "NPY_DIR = 'resampled_npy'\n",
    "\n",
    "# 波长映射 (GOCI 波段名与已裁剪 NC 中 geophysical_data 变量名保持一致)\n",
    "GOCI_BANDS = {443:'L_TOA_443', 490:'L_TOA_490', 555:'L_TOA_555', 660:'L_TOA_660', 865:'L_TOA_865'}\n",
    "LANDSAT_WAVELENGTHS = [443, 483, 561, 655, 865]  # Landsat TIF 中五个波段中心波长（近似）\n",
    "PAIR_L2G = {0:443, 1:490, 2:555, 3:660, 4:865}  # Landsat 索引 -> 对应 GOCI 波长\n",
    "\n",
    "os.makedirs(NPY_DIR, exist_ok=True)"
   ]
  },
  {
   "cell_type": "markdown",
   "id": "efaa22ad",
   "metadata": {},
   "source": [
    "## 3. 读取 GOCI 子集 NC（弯曲网格）\n",
    "读取 latitude/longitude（curvilinear），以及 5 个波段数据；外部 FillValue 和掩膜 outside 区域替换为 `np.nan`，以便后续重采样忽略。"
   ]
  },
  {
   "cell_type": "code",
   "execution_count": 4,
   "id": "7bb00ea6",
   "metadata": {},
   "outputs": [
    {
     "name": "stdout",
     "output_type": "stream",
     "text": [
      "GOCI 子集读取完成: shape= (669, 901) 波段有效像元统计:\n",
      "  wl 443nm: valid=412528\n",
      "  wl 490nm: valid=412528\n",
      "  wl 555nm: valid=412528\n",
      "  wl 660nm: valid=412528\n",
      "  wl 865nm: valid=412528\n",
      "最终 data 类型: <class 'numpy.ndarray'> shape= (669, 901, 5)\n"
     ]
    }
   ],
   "source": [
    "def read_goci_subset(nc_path: str):\n",
    "    if not os.path.exists(nc_path):\n",
    "        raise FileNotFoundError(nc_path)\n",
    "\n",
    "    with Dataset(nc_path, 'r') as ds:\n",
    "        nav = ds['navigation_data']\n",
    "        geo = ds['geophysical_data']\n",
    "\n",
    "        lat = np.array(nav['latitude'][:], dtype=np.float32)\n",
    "        lon = np.array(nav['longitude'][:], dtype=np.float32)\n",
    "\n",
    "        band_list = []\n",
    "        for wl, vname in GOCI_BANDS.items():\n",
    "            var = geo[vname]\n",
    "            data = var[:]\n",
    "\n",
    "            # 1. 如果是 MaskedArray，直接填充 NaN\n",
    "            if np.ma.isMaskedArray(data):\n",
    "                arr = data.filled(np.nan).astype(np.float32)\n",
    "            else:\n",
    "                arr = np.array(data, dtype=np.float32)\n",
    "\n",
    "            # 2. 处理 _FillValue（兜底，防止没有被自动识别）\n",
    "            fv = None\n",
    "            if '_FillValue' in var.ncattrs():\n",
    "                try:\n",
    "                    fv = float(var.getncattr('_FillValue'))\n",
    "                except Exception:\n",
    "                    fv = None\n",
    "            if fv is not None:\n",
    "                arr = np.where(arr == fv, np.nan, arr)\n",
    "\n",
    "            band_list.append(arr)\n",
    "\n",
    "        # 拼接成一个 (H, W, C) 的数组\n",
    "        data_array = np.stack(band_list, axis=-1)  # shape=(H, W, 5)\n",
    "\n",
    "    print('GOCI 子集读取完成: shape=', lat.shape, '波段有效像元统计:')\n",
    "    for i, wl in enumerate(sorted(GOCI_BANDS.keys())):\n",
    "        valid = np.isfinite(data_array[:, :, i]).sum()\n",
    "        print(f'  wl {wl}nm: valid={valid}')\n",
    "    print('最终 data 类型:', type(data_array), 'shape=', data_array.shape)\n",
    "\n",
    "    return {'data': data_array, 'lat': lat, 'lon': lon}\n",
    "\n",
    "\n",
    "# 调用\n",
    "goci_data = read_goci_subset(GOCI_NC)"
   ]
  },
  {
   "cell_type": "code",
   "execution_count": 5,
   "id": "cec6e976",
   "metadata": {},
   "outputs": [
    {
     "data": {
      "text/plain": [
       "numpy.ndarray"
      ]
     },
     "execution_count": 5,
     "metadata": {},
     "output_type": "execute_result"
    }
   ],
   "source": [
    "type(goci_data['data'])"
   ]
  },
  {
   "cell_type": "markdown",
   "id": "8a168952",
   "metadata": {},
   "source": [
    "## 4. 读取 Landsat 多波段 TIF 并构建目标网格\n",
    "读取 5 波段数组及其仿射变换，计算像元中心经纬度（WGS84）。"
   ]
  },
  {
   "cell_type": "code",
   "execution_count": 6,
   "id": "f684828d",
   "metadata": {},
   "outputs": [
    {
     "name": "stdout",
     "output_type": "stream",
     "text": [
      "Landsat 读取完成: shape= (5, 7961, 7841) lon范围=( 124.81034526183203 , 127.4956566273188 ), lat范围=( 34.92840662213403 , 37.1398045848502 )\n"
     ]
    }
   ],
   "source": [
    "def read_landsat_tif(tif_path: str):\n",
    "    \"\"\"\n",
    "    读取 Landsat 多波段 GeoTIFF，并生成对应的经纬度网格。\n",
    "    返回:\n",
    "        dict:\n",
    "            {\n",
    "                'data':    多波段影像数据 (bands, H, W)，float32，NaN 表示无效值\n",
    "                'lon':     每个像元的经度 (H, W)\n",
    "                'lat':     每个像元的纬度 (H, W)\n",
    "                'transform': 仿射变换矩阵 (Affine)\n",
    "                'crs':     投影坐标系 (CRS 对象)\n",
    "                'dtype':   数据类型 (一般为 float32)\n",
    "            }\n",
    "    \"\"\"\n",
    "    if not os.path.exists(tif_path):\n",
    "        raise FileNotFoundError(tif_path)\n",
    "\n",
    "    # 打开 GeoTIFF 文件\n",
    "    with rasterio.open(tif_path) as ds:\n",
    "        # 读取所有波段数据，转为 float32\n",
    "        # 输出 shape = (波段数, H, W)，例如 (5, 8000, 8000)\n",
    "        stack = ds.read().astype(np.float32)\n",
    "\n",
    "        # 将 nodata 值替换为 NaN，方便后续处理\n",
    "        if ds.nodata is not None:\n",
    "            stack = np.where(stack == ds.nodata, np.nan, stack)\n",
    "\n",
    "        # 影像尺寸\n",
    "        H, W = ds.height, ds.width\n",
    "\n",
    "        # 仿射变换矩阵 (row/col -> 投影坐标)\n",
    "        T = ds.transform\n",
    "        # 投影坐标系 (例如 UTM)\n",
    "        crs = ds.crs\n",
    "\n",
    "        # 构建行列索引网格\n",
    "        rows = np.arange(H)\n",
    "        cols = np.arange(W)\n",
    "        cgrid, rgrid = np.meshgrid(cols, rows)\n",
    "\n",
    "        # 利用仿射矩阵计算像元中心点的投影坐标 (x, y)\n",
    "        # 公式: x = c + a*(col+0.5) + b*(row+0.5)\n",
    "        #       y = f + d*(col+0.5) + e*(row+0.5)\n",
    "        x = T.c + T.a * (cgrid + 0.5) + T.b * (rgrid + 0.5)\n",
    "        y = T.f + T.d * (cgrid + 0.5) + T.e * (rgrid + 0.5)\n",
    "\n",
    "        # 将投影坐标转换为经纬度 (EPSG:4326)\n",
    "        transformer = Transformer.from_crs(crs, 'EPSG:4326', always_xy=True)\n",
    "        lon, lat = transformer.transform(x, y)\n",
    "\n",
    "    # 打印一些基本信息\n",
    "    print(\n",
    "        'Landsat 读取完成: shape=', stack.shape,\n",
    "        'lon范围=(', np.nanmin(lon), ',', np.nanmax(lon), '),',\n",
    "        'lat范围=(', np.nanmin(lat), ',', np.nanmax(lat), ')'\n",
    "    )\n",
    "\n",
    "    # 返回结果字典\n",
    "    return {\n",
    "        'data': stack,   # 影像数据\n",
    "        'lon': lon,      # 每个像元的经度\n",
    "        'lat': lat,      # 每个像元的纬度\n",
    "        'transform': T,  # 仿射矩阵\n",
    "        'crs': crs,      # 投影坐标系\n",
    "        'dtype': stack.dtype\n",
    "    }\n",
    "\n",
    "# 调用示例\n",
    "landsat_data = read_landsat_tif(LANDSAT_TIF)"
   ]
  },
  {
   "cell_type": "code",
   "execution_count": 7,
   "id": "615439d2",
   "metadata": {},
   "outputs": [
    {
     "name": "stdout",
     "output_type": "stream",
     "text": [
      "<class 'numpy.ndarray'>\n"
     ]
    }
   ],
   "source": [
    "print(type(landsat_data['data']))"
   ]
  },
  {
   "cell_type": "markdown",
   "id": "1fced45a",
   "metadata": {},
   "source": [
    "## 5. 构建 pyresample 几何对象 (SwathDefinition)\n",
    "源：GOCI 弯曲网格 (lat, lon)；目标：Landsat 像元中心 (lat, lon)。本例直接用两个 SwathDefinition；如果需要投影规则网格，可改用 AreaDefinition。"
   ]
  },
  {
   "cell_type": "code",
   "execution_count": 8,
   "id": "8d13ad3e",
   "metadata": {},
   "outputs": [
    {
     "name": "stdout",
     "output_type": "stream",
     "text": [
      "(669, 901, 5)\n"
     ]
    },
    {
     "ename": "NameError",
     "evalue": "name 'L_lat' is not defined",
     "output_type": "error",
     "traceback": [
      "\u001b[0;31m---------------------------------------------------------------------------\u001b[0m",
      "\u001b[0;31mNameError\u001b[0m                                 Traceback (most recent call last)",
      "Cell \u001b[0;32mIn[8], line 7\u001b[0m\n\u001b[1;32m      5\u001b[0m \u001b[38;5;28mprint\u001b[39m(goci_arr\u001b[38;5;241m.\u001b[39mshape)\n\u001b[1;32m      6\u001b[0m Hs, Ws, B \u001b[38;5;241m=\u001b[39m goci_arr\u001b[38;5;241m.\u001b[39mshape\n\u001b[0;32m----> 7\u001b[0m Ht, Wt \u001b[38;5;241m=\u001b[39m \u001b[43mL_lat\u001b[49m\u001b[38;5;241m.\u001b[39mshape  \u001b[38;5;66;03m# 目标尺寸与 Landsat 一致\u001b[39;00m\n\u001b[1;32m      8\u001b[0m \u001b[38;5;28mprint\u001b[39m(B, Hs, Ws, Ht, Wt)\n",
      "\u001b[0;31mNameError\u001b[0m: name 'L_lat' is not defined"
     ]
    }
   ],
   "source": [
    "# 取出数据并统一形状\n",
    "#    支持 HxW 或 BxHxW；内部统一本为 (B,H,W)\n",
    "# ----------------------------\n",
    "goci_arr = goci_data['data']  # 可能是 HxW 或 BxHxW\n",
    "print(goci_arr.shape)\n",
    "Hs, Ws, B = goci_arr.shape\n",
    "Ht, Wt = L_lat.shape  # 目标尺寸与 Landsat 一致\n",
    "print(B, Hs, Ws, Ht, Wt)"
   ]
  },
  {
   "cell_type": "code",
   "execution_count": null,
   "id": "5c6caa5d",
   "metadata": {},
   "outputs": [
    {
     "name": "stdout",
     "output_type": "stream",
     "text": [
      "Swath 已构建：source= (669, 901)  target= (7961, 7841)\n",
      "准备完成：band=0, src_band 形状=(669, 901), 掩膜比例=31.56%\n"
     ]
    }
   ],
   "source": [
    "# 1) 可调参数（先用一组保守值）\n",
    "ROI_METERS   = 750   # 搜索半径（米）\n",
    "SIGMA_METERS = 400    # 高斯核宽度（米），约 0.3~0.7×ROI\n",
    "NEIGHBOURS   = 32      # 最大邻居数\n",
    "FILL_VALUE   = np.nan  # 没有邻居时写入的值\n",
    "NPROCS       = 1       # 并行进程数\n",
    "\n",
    "# 2) 读取你已有的数据（当前已是 Hs, Ws, B）\n",
    "goci_arr = goci_data['data']          # 形状 (Hs, Ws, B) = (669, 901, 5)\n",
    "g_lat    = goci_data['lat']           # 形状 (Hs, Ws)\n",
    "g_lon    = goci_data['lon']           # 形状 (Hs, Ws)\n",
    "L_lat    = landsat_data['lat']        # 形状 (Ht, Wt) = (7961, 7841)\n",
    "L_lon    = landsat_data['lon']        # 形状 (Ht, Wt)\n",
    "\n",
    "print(goci_arr.shape)\n",
    "gH, gW, B = goci_arr.shape\n",
    "lH, lW = L_lat.shape  # 目标尺寸与 Landsat 一致\n",
    "print(B, gH, gW, lH, lW)\n",
    "\n",
    "# 3) 构建源/目标 SwathDefinition（仅一次性构建）\n",
    "source_swath = geometry.SwathDefinition(lons=g_lon, lats=g_lat)\n",
    "target_swath = geometry.SwathDefinition(lons=L_lon, lats=L_lat)\n",
    "\n",
    "print(\"Swath 已构建：source=\", g_lat.shape, \" target=\", L_lat.shape)\n",
    "\n",
    "# 4) 选择一个波段做演示（先从第0个波段开始）\n",
    "b = 0\n",
    "src_band = goci_arr[:, :, b]          # 形状 (Hs, Ws)\n",
    "\n",
    "# 5) 将无效值转为掩膜（MaskedArray）；如果有固定填充值可在这里叠加\n",
    "src_band_masked = np.ma.array(src_band, mask=np.isnan(src_band))\n",
    "print(f\"准备完成：band={b}, src_band 形状={src_band.shape}, 掩膜比例={(src_band_masked.mask.mean()*100):.2f}%\")"
   ]
  },
  {
   "cell_type": "code",
   "execution_count": 10,
   "id": "c92fd972",
   "metadata": {},
   "outputs": [
    {
     "ename": "",
     "evalue": "",
     "output_type": "error",
     "traceback": [
      "\u001b[1;31m在当前单元格或上一个单元格中执行代码时 Kernel 崩溃。\n",
      "\u001b[1;31m请查看单元格中的代码，以确定故障的可能原因。\n",
      "\u001b[1;31m单击<a href='https://aka.ms/vscodeJupyterKernelCrash'>此处</a>了解详细信息。\n",
      "\u001b[1;31m有关更多详细信息，请查看 Jupyter <a href='command:jupyter.viewOutput'>log</a>。"
     ]
    }
   ],
   "source": [
    "# ===== 第2步：执行重采样（单波段） =====\n",
    "import time\n",
    "\n",
    "t0 = time.time()\n",
    "\n",
    "resampled_band = kd_tree.resample_gauss(\n",
    "    source_swath,              # 源 swath（GOCI 经纬度）\n",
    "    src_band_masked,           # 源数据（MaskedArray；已把 NaN 当作无效）\n",
    "    target_swath,              # 目标 swath（Landsat 经纬度网格）\n",
    "    radius_of_influence=ROI_METERS,\n",
    "    sigmas=SIGMA_METERS,\n",
    "    fill_value=FILL_VALUE,\n",
    "    neighbours=NEIGHBOURS,\n",
    "    with_uncert=False,\n",
    "    nprocs=NPROCS\n",
    ")\n",
    "\n",
    "t1 = time.time()\n",
    "print(f\"✅ 重采样完成：输出形状 = {resampled_band.shape}，用时 {t1 - t0:.2f} s\")\n",
    "\n",
    "# ---- 质量检查（统计信息）----\n",
    "finite = np.isfinite(resampled_band)\n",
    "ratio_finite = finite.mean() * 100.0\n",
    "n_nan = np.size(resampled_band) - finite.sum()\n",
    "\n",
    "if np.any(finite):\n",
    "    vmin = np.nanmin(resampled_band)\n",
    "    vmax = np.nanmax(resampled_band)\n",
    "    vmean = np.nanmean(resampled_band)\n",
    "else:\n",
    "    vmin = vmax = vmean = np.nan\n",
    "\n",
    "print(f\"有效像元比例: {ratio_finite:.2f}%  (NaN个数: {n_nan})\")\n",
    "print(f\"值域: min={vmin:.6g}, max={vmax:.6g}, mean={vmean:.6g}\")"
   ]
  },
  {
   "cell_type": "code",
   "execution_count": null,
   "id": "d6fd8120",
   "metadata": {},
   "outputs": [],
   "source": []
  },
  {
   "cell_type": "code",
   "execution_count": null,
   "id": "45a35151",
   "metadata": {},
   "outputs": [],
   "source": []
  },
  {
   "cell_type": "code",
   "execution_count": null,
   "id": "ab329c56",
   "metadata": {},
   "outputs": [],
   "source": []
  },
  {
   "cell_type": "code",
   "execution_count": null,
   "id": "c122a978",
   "metadata": {},
   "outputs": [],
   "source": []
  },
  {
   "cell_type": "code",
   "execution_count": null,
   "id": "8d91b9a3",
   "metadata": {},
   "outputs": [],
   "source": []
  },
  {
   "cell_type": "code",
   "execution_count": null,
   "id": "165c248c",
   "metadata": {},
   "outputs": [],
   "source": []
  },
  {
   "cell_type": "code",
   "execution_count": null,
   "id": "ec76d287",
   "metadata": {},
   "outputs": [],
   "source": []
  }
 ],
 "metadata": {
  "kernelspec": {
   "display_name": "ptc",
   "language": "python",
   "name": "python3"
  },
  "language_info": {
   "codemirror_mode": {
    "name": "ipython",
    "version": 3
   },
   "file_extension": ".py",
   "mimetype": "text/x-python",
   "name": "python",
   "nbconvert_exporter": "python",
   "pygments_lexer": "ipython3",
   "version": "3.10.16"
  }
 },
 "nbformat": 4,
 "nbformat_minor": 5
}
