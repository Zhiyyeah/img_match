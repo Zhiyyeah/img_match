{
 "cells": [
  {
   "cell_type": "markdown",
   "id": "e4d25fa7",
   "metadata": {},
   "source": [
    "# 使用 pyresample 将弯曲网格 GOCI 子集重采样到 Landsat 规则网格\n",
    "\n",
    "本 Notebook 以教学方式演示：\n",
    "1. 读取已经按 Landsat footprint 精确裁剪后的 GOCI 子集（弯曲/曲线网格: curvilinear lat/lon）。\n",
    "2. 读取 Landsat 多波段 TOA 辐亮度 GeoTIFF（规则栅格）。\n",
    "3. 利用 `pyresample` 将 GOCI 五个波段插值/匹配到 Landsat 像元中心网格（两种算法：最近邻 / 高斯加权）。\n",
    "4. 输出结果：多波段 GeoTIFF（主输出）与可选的逐波段 `.npy` 数组及元数据 JSON。\n",
    "5. 做统计与可视化：差值统计、直方图、示例空间图。\n",
    "6. 给出性能与内存优化提示，并封装 `run_all()` 供一键复现。\n",
    "\n",
    "> 建议按顺序逐节运行与阅读。你可以先了解参数，再尝试修改重采样算法与半径。"
   ]
  },
  {
   "cell_type": "markdown",
   "id": "5ce13323",
   "metadata": {},
   "source": [
    "## 1. 安装与导入库\n",
    "如果你的环境还没有安装 `pyresample`, `rasterio`, `netCDF4`，运行下一单元进行安装。已安装可重复执行（pip 会跳过）。"
   ]
  },
  {
   "cell_type": "code",
   "execution_count": 1,
   "id": "c45f8d7c",
   "metadata": {},
   "outputs": [
    {
     "name": "stdout",
     "output_type": "stream",
     "text": [
      "库导入完成。\n"
     ]
    }
   ],
   "source": [
    "# 安装可能缺失的库（静默）\n",
    "\n",
    "import os, json, time, math\n",
    "import numpy as np\n",
    "import rasterio\n",
    "from rasterio.transform import Affine\n",
    "from rasterio.crs import CRS\n",
    "from netCDF4 import Dataset\n",
    "import matplotlib.pyplot as plt\n",
    "from pyproj import Transformer\n",
    "from pyresample import geometry, kd_tree\n",
    "\n",
    "plt.style.use('seaborn-v0_8-darkgrid')\n",
    "plt.rcParams['figure.dpi'] = 130\n",
    "print('库导入完成。')"
   ]
  },
  {
   "cell_type": "markdown",
   "id": "54b0dfa6",
   "metadata": {},
   "source": [
    "## 2. 定义输入输出路径与参数\n",
    "可以根据自己文件布局调整。重采样方法可以切换：`USE_GAUSSIAN=False` 表示最近邻 (KD-tree)；True 则使用高斯加权。半径参数需要根据 GOCI 原始分辨率（约 500 m）和 Landsat 30 m 调整。"
   ]
  },
  {
   "cell_type": "code",
   "execution_count": 4,
   "id": "9edb64d6",
   "metadata": {},
   "outputs": [
    {
     "name": "stdout",
     "output_type": "stream",
     "text": [
      "参数已设置: 方法= nearest\n"
     ]
    }
   ],
   "source": [
    "# ---- 路径与参数可修改 ----\n",
    "GOCI_NC = '../goci_subset_5bands.nc'  # 由裁剪脚本 20_goci_subset_rectangle.py 生成\n",
    "LANDSAT_TIF = '../SR_Imagery/LC09_L1TP_116035_20250504_20250504_02_T1/LC09_L1TP_116035_20250504_20250504_02_T1_TOA_RAD_B1-2-3-4-5.tif'\n",
    "OUT_TIF = '/goci_resampled_to_landsat.tif'\n",
    "SAVE_NPY = True\n",
    "NPY_DIR = 'resampled_npy'\n",
    "\n",
    "# 波长映射 (GOCI 波段名与已裁剪 NC 中 geophysical_data 变量名保持一致)\n",
    "GOCI_BANDS = {443:'L_TOA_443', 490:'L_TOA_490', 555:'L_TOA_555', 660:'L_TOA_660', 865:'L_TOA_865'}\n",
    "LANDSAT_WAVELENGTHS = [443, 483, 561, 655, 865]  # Landsat TIF 中五个波段中心波长（近似）\n",
    "PAIR_L2G = {0:443, 1:490, 2:555, 3:660, 4:865}  # Landsat 索引 -> 对应 GOCI 波长\n",
    "\n",
    "# 重采样参数（可调）\n",
    "NEAREST_RADIUS_M = 1200  # 最近邻搜索影响半径（米）\n",
    "GAUSS_RADIUS_M   = 1500  # 高斯权重影响半径（米）\n",
    "GAUSS_SIGMA      = 500   # 高斯 sigma（米）\n",
    "FILL_VALUE = np.nan\n",
    "USE_GAUSSIAN = False  # False=nearest, True=gaussian\n",
    "\n",
    "os.makedirs(NPY_DIR, exist_ok=True)\n",
    "print('参数已设置: 方法=', 'gaussian' if USE_GAUSSIAN else 'nearest')"
   ]
  },
  {
   "cell_type": "markdown",
   "id": "efaa22ad",
   "metadata": {},
   "source": [
    "## 3. 读取 GOCI 子集 NC（弯曲网格）\n",
    "读取 latitude/longitude（curvilinear），以及 5 个波段数据；外部 FillValue 和掩膜 outside 区域替换为 `np.nan`，以便后续重采样忽略。"
   ]
  },
  {
   "cell_type": "code",
   "execution_count": null,
   "id": "7bb00ea6",
   "metadata": {},
   "outputs": [
    {
     "name": "stdout",
     "output_type": "stream",
     "text": [
      "GOCI 子集读取完成: shape= (669, 901) 波段有效像元统计:\n",
      "  wl 443nm: valid=412528\n",
      "  wl 490nm: valid=412528\n",
      "  wl 555nm: valid=412528\n",
      "  wl 660nm: valid=412528\n",
      "  wl 865nm: valid=412528\n"
     ]
    }
   ],
   "source": [
    "def read_goci_subset(nc_path: str):\n",
    "    if not os.path.exists(nc_path):\n",
    "        raise FileNotFoundError(nc_path)\n",
    "    with Dataset(nc_path, 'r') as ds:\n",
    "        nav = ds['navigation_data']\n",
    "        geo = ds['geophysical_data']\n",
    "        lat = np.array(nav['latitude'][:], dtype=np.float32)\n",
    "        lon = np.array(nav['longitude'][:], dtype=np.float32)\n",
    "        inside = None\n",
    "        bands = {}\n",
    "        for wl, vname in GOCI_BANDS.items():\n",
    "            var = geo[vname]\n",
    "            data = var[:]\n",
    "            if np.ma.isMaskedArray(data):\n",
    "                arr = data.filled(np.nan).astype(np.float32)\n",
    "            else:\n",
    "                arr = np.array(data, dtype=np.float32)\n",
    "            fv = None\n",
    "            if '_FillValue' in var.ncattrs():\n",
    "                try:\n",
    "                    fv = float(var.getncattr('_FillValue'))\n",
    "                except Exception:\n",
    "                    fv = None\n",
    "            if fv is not None:\n",
    "                arr = np.where(arr == fv, np.nan, arr)\n",
    "            if inside is not None:\n",
    "                arr = np.where(inside, arr, np.nan)\n",
    "            bands[wl] = arr\n",
    "    print('GOCI 子集读取完成: shape=', lat.shape, '波段有效像元统计:')\n",
    "    for wl in sorted(bands):\n",
    "        valid = np.isfinite(bands[wl]).sum()\n",
    "        print(f'  wl {wl}nm: valid={valid}')\n",
    "    return {'lat':lat, 'lon':lon, 'bands':bands, 'inside':inside}\n",
    "\n",
    "goci_data = read_goci_subset(GOCI_NC)"
   ]
  },
  {
   "cell_type": "markdown",
   "id": "8a168952",
   "metadata": {},
   "source": [
    "## 4. 读取 Landsat 多波段 TIF 并构建目标网格\n",
    "读取 5 波段数组及其仿射变换，计算像元中心经纬度（WGS84）。"
   ]
  },
  {
   "cell_type": "code",
   "execution_count": null,
   "id": "f684828d",
   "metadata": {},
   "outputs": [],
   "source": [
    "def read_landsat_tif(tif_path: str):\n",
    "    if not os.path.exists(tif_path):\n",
    "        raise FileNotFoundError(tif_path)\n",
    "    with rasterio.open(tif_path) as ds:\n",
    "        stack = ds.read().astype(np.float32)  # (5,H,W)\n",
    "        if ds.nodata is not None:\n",
    "            stack = np.where(stack == ds.nodata, np.nan, stack)\n",
    "        H, W = ds.height, ds.width\n",
    "        T = ds.transform\n",
    "        crs = ds.crs\n",
    "        rows = np.arange(H); cols = np.arange(W)\n",
    "        cgrid, rgrid = np.meshgrid(cols, rows)\n",
    "        # 像元中心投影坐标\n",
    "        x = T.c + T.a*(cgrid + 0.5) + T.b*(rgrid + 0.5)\n",
    "        y = T.f + T.d*(cgrid + 0.5) + T.e*(rgrid + 0.5)\n",
    "        transformer = Transformer.from_crs(crs, 'EPSG:4326', always_xy=True)\n",
    "        lon, lat = transformer.transform(x, y)\n",
    "    print('Landsat 读取完成: shape=', stack.shape,\n",
    "          'lon范围=(', np.nanmin(lon), ',', np.nanmax(lon), '), lat范围=(', np.nanmin(lat), ',', np.nanmax(lat), ')')\n",
    "    return {'data': stack, 'lon': lon, 'lat': lat, 'transform': T, 'crs': crs, 'dtype': stack.dtype}\n",
    "\n",
    "landsat_data = read_landsat_tif(LANDSAT_TIF)"
   ]
  },
  {
   "cell_type": "markdown",
   "id": "1fced45a",
   "metadata": {},
   "source": [
    "## 5. 构建 pyresample 几何对象 (SwathDefinition)\n",
    "源：GOCI 弯曲网格 (lat, lon)；目标：Landsat 像元中心 (lat, lon)。本例直接用两个 SwathDefinition；如果需要投影规则网格，可改用 AreaDefinition。"
   ]
  },
  {
   "cell_type": "code",
   "execution_count": null,
   "id": "42060b23",
   "metadata": {},
   "outputs": [],
   "source": [
    "g_lon = goci_data['lon']; g_lat = goci_data['lat']\n",
    "L_lon = landsat_data['lon']; L_lat = landsat_data['lat']\n",
    "source_swath = geometry.SwathDefinition(lons=g_lon, lats=g_lat)\n",
    "target_swath = geometry.SwathDefinition(lons=L_lon, lats=L_lat)\n",
    "print('几何对象已构建: source=', g_lon.shape, 'target=', L_lon.shape)"
   ]
  },
  {
   "cell_type": "markdown",
   "id": "97967e61",
   "metadata": {},
   "source": [
    "## 6. 选择与配置重采样算法 (nearest / gaussian)\n",
    "`resample_nearest`：快速、保留原值；`resample_gauss`：平滑、可减噪。使用时需合理设置 `radius_of_influence` 与 `sigmas`。"
   ]
  },
  {
   "cell_type": "code",
   "execution_count": null,
   "id": "db9a5c86",
   "metadata": {},
   "outputs": [],
   "source": [
    "def choose_resampler(use_gaussian: bool):\n",
    "    if use_gaussian:\n",
    "        def _resample(src_swath, dst_swath, data):\n",
    "            return kd_tree.resample_gauss(\n",
    "                src_swath, data, dst_swath,\n",
    "                radius_of_influence=GAUSS_RADIUS_M,\n",
    "                sigmas=GAUSS_SIGMA,\n",
    "                fill_value=FILL_VALUE,\n",
    "                neighbours=32\n",
    "            )\n",
    "        method = 'gaussian'\n",
    "    else:\n",
    "        def _resample(src_swath, dst_swath, data):\n",
    "            return kd_tree.resample_nearest(\n",
    "                src_swath, data, dst_swath,\n",
    "                radius_of_influence=NEAREST_RADIUS_M,\n",
    "                fill_value=FILL_VALUE,\n",
    "                neighbours=1\n",
    "            )\n",
    "        method = 'nearest'\n",
    "    return _resample, method\n",
    "\n",
    "resample_func, RESAMPLE_METHOD = choose_resampler(USE_GAUSSIAN)\n",
    "print('使用方法:', RESAMPLE_METHOD)"
   ]
  },
  {
   "cell_type": "markdown",
   "id": "d6c29575",
   "metadata": {},
   "source": [
    "## 7. 执行重采样：批处理 5 个 GOCI 波段\n",
    "循环处理每个波段，记录时间与统计。"
   ]
  },
  {
   "cell_type": "code",
   "execution_count": null,
   "id": "caf484f0",
   "metadata": {},
   "outputs": [],
   "source": [
    "resampled_arrays = []  # 按升序波长存放\n",
    "resampled_wls = sorted(GOCI_BANDS.keys())\n",
    "start_all = time.time()\n",
    "for wl in resampled_wls:\n",
    "    arr = goci_data['bands'][wl]\n",
    "    t0 = time.time()\n",
    "    out = resample_func(source_swath, target_swath, arr)\n",
    "    dt = time.time() - t0\n",
    "    valid = np.isfinite(out).sum()\n",
    "    print(f'Resample wl {wl}nm done: valid={valid}, time={dt:.2f}s')\n",
    "    resampled_arrays.append(out.astype(np.float32))\n",
    "\n",
    "print('全部重采样完成，总耗时: %.2fs' % (time.time() - start_all))"
   ]
  },
  {
   "cell_type": "markdown",
   "id": "a10f79ff",
   "metadata": {},
   "source": [
    "## 8. 保存结果为多波段 GeoTIFF\n",
    "使用 Landsat 原 TIF 的空间参考与变换，写入浮点多波段。"
   ]
  },
  {
   "cell_type": "code",
   "execution_count": null,
   "id": "021f219b",
   "metadata": {},
   "outputs": [],
   "source": [
    "def write_resampled_tif(out_path: str, arrays: list, landsat_meta: dict, wavelengths):\n",
    "    if len(arrays) == 0:\n",
    "        raise ValueError('arrays 为空')\n",
    "    h, w = arrays[0].shape\n",
    "    profile = {\n",
    "        'driver': 'GTiff',\n",
    "        'height': h,\n",
    "        'width': w,\n",
    "        'count': len(arrays),\n",
    "        'dtype': 'float32',\n",
    "        'crs': landsat_meta['crs'],\n",
    "        'transform': landsat_meta['transform'],\n",
    "        'compress': 'deflate',\n",
    "        'nodata': np.nan\n",
    "    }\n",
    "    with rasterio.open(out_path, 'w', **profile) as dst:\n",
    "        for i, arr in enumerate(arrays, start=1):\n",
    "            dst.write(arr, i)\n",
    "        dst.update_tags(1, wavelengths=','.join(str(x) for x in wavelengths))\n",
    "        dst.update_tags(source='GOCI->Landsat grid via pyresample', method=RESAMPLE_METHOD)\n",
    "    print('写入 GeoTIFF 完成:', out_path)\n",
    "\n",
    "write_resampled_tif(OUT_TIF, resampled_arrays, landsat_data, resampled_wls)"
   ]
  },
  {
   "cell_type": "markdown",
   "id": "2ac9f2ef",
   "metadata": {},
   "source": [
    "## 9. 可选：保存结果为 .npy\n",
    "逐波段保存，并写 meta.json。"
   ]
  },
  {
   "cell_type": "code",
   "execution_count": null,
   "id": "c2fde929",
   "metadata": {},
   "outputs": [],
   "source": [
    "if SAVE_NPY:\n",
    "    meta = {\n",
    "        'wavelengths': resampled_wls,\n",
    "        'method': RESAMPLE_METHOD,\n",
    "        'shape': list(resampled_arrays[0].shape),\n",
    "        'timestamp': time.strftime('%Y-%m-%dT%H:%M:%S'),\n",
    "        'radius': GAUSS_RADIUS_M if USE_GAUSSIAN else NEAREST_RADIUS_M,\n",
    "        'sigma': GAUSS_SIGMA if USE_GAUSSIAN else None\n",
    "    }\n",
    "    for wl, arr in zip(resampled_wls, resampled_arrays):\n",
    "        np.save(os.path.join(NPY_DIR, f'goci_resample_{wl}nm.npy'), arr)\n",
    "    with open(os.path.join(NPY_DIR, 'meta.json'), 'w') as f:\n",
    "        json.dump(meta, f, indent=2)\n",
    "    print('NPY 与 meta.json 已保存到', NPY_DIR)\n",
    "else:\n",
    "    print('SAVE_NPY=False，跳过 NPY 保存')"
   ]
  },
  {
   "cell_type": "markdown",
   "id": "39c6fc08",
   "metadata": {},
   "source": [
    "## 10. 波段配对统计（重采样 GOCI vs Landsat）\n",
    "计算差值、RMSE、相关系数。"
   ]
  },
  {
   "cell_type": "code",
   "execution_count": null,
   "id": "d6437467",
   "metadata": {},
   "outputs": [],
   "source": [
    "def pairwise_stats(resampled_list, landsat_stack):\n",
    "    print('Wavelength  |   N   | mean(G) mean(L) |  diff mean  diff std  RMSE  |  corr')\n",
    "    print('-'*85)\n",
    "    for li, wl in enumerate(resampled_wls):\n",
    "        L_index = None\n",
    "        for k,v in PAIR_L2G.items():\n",
    "            if v == wl:\n",
    "                L_index = k\n",
    "                break\n",
    "        if L_index is None:\n",
    "            continue\n",
    "        G = resampled_list[li]\n",
    "        L = landsat_stack[L_index]\n",
    "        mask = np.isfinite(G) & np.isfinite(L)\n",
    "        if mask.sum() == 0:\n",
    "            print(f'{wl:>9}nm |   0   | NA')\n",
    "            continue\n",
    "        g = G[mask]; l = L[mask]\n",
    "        diff = g - l\n",
    "        rmse = np.sqrt(np.mean(diff**2))\n",
    "        corr = np.corrcoef(g, l)[0,1]\n",
    "        print(f'{wl:>9}nm | {mask.sum():5d} | {g.mean():7.4f} {l.mean():7.4f} | {diff.mean():9.4f} {diff.std():8.4f} {rmse:6.4f} | {corr:5.3f}')\n",
    "\n",
    "pairwise_stats(resampled_arrays, landsat_data['data'])"
   ]
  },
  {
   "cell_type": "markdown",
   "id": "e290f4a5",
   "metadata": {},
   "source": [
    "## 11. 快速可视化：重采样 GOCI vs Landsat\n",
    "示例 555 nm（可修改 wl）。"
   ]
  },
  {
   "cell_type": "code",
   "execution_count": null,
   "id": "b54c18b3",
   "metadata": {},
   "outputs": [],
   "source": [
    "def show_example(wl=555):\n",
    "    if wl not in resampled_wls:\n",
    "        print('波长不存在于重采样列表'); return\n",
    "    # 找到 Landsat 对应索引\n",
    "    L_index = None\n",
    "    for k,v in PAIR_L2G.items():\n",
    "        if v == wl:\n",
    "            L_index = k\n",
    "            break\n",
    "    if L_index is None:\n",
    "        print('未找到 Landsat 对应波段'); return\n",
    "    G = resampled_arrays[resampled_wls.index(wl)]\n",
    "    L = landsat_data['data'][L_index]\n",
    "    lon = L_lon; lat = L_lat\n",
    "    both = np.isfinite(G) & np.isfinite(L)\n",
    "    if both.sum() == 0:\n",
    "        print('无共同有效像元'); return\n",
    "    vv = np.concatenate([G[both], L[both]])\n",
    "    vmin, vmax = np.percentile(vv, [2, 98])\n",
    "    cmap = plt.get_cmap('viridis').copy(); cmap.set_bad(alpha=0.)\n",
    "    plt.figure(figsize=(10,4))\n",
    "    plt.subplot(1,2,1)\n",
    "    plt.title(f'GOCI resampled {wl}nm ({RESAMPLE_METHOD})')\n",
    "    plt.pcolormesh(lon, lat, G, shading='auto', vmin=vmin, vmax=vmax, cmap=cmap)\n",
    "    plt.colorbar(label='Radiance')\n",
    "    plt.subplot(1,2,2)\n",
    "    plt.title(f'Landsat ~{wl}nm')\n",
    "    plt.pcolormesh(lon, lat, L, shading='auto', vmin=vmin, vmax=vmax, cmap=cmap)\n",
    "    plt.colorbar(label='Radiance')\n",
    "    plt.tight_layout()\n",
    "    plt.show()\n",
    "\n",
    "show_example(555)"
   ]
  },
  {
   "cell_type": "markdown",
   "id": "3064b362",
   "metadata": {},
   "source": [
    "## 12. 直方图对比（重采样 GOCI vs Landsat）\n",
    "与先前脚本风格一致：共用 1–99% 分位范围，`bins=60`。"
   ]
  },
  {
   "cell_type": "code",
   "execution_count": null,
   "id": "ca84fc8e",
   "metadata": {},
   "outputs": [],
   "source": [
    "hist_dir = 'figs_hist_resample'\n",
    "os.makedirs(hist_dir, exist_ok=True)\n",
    "\n",
    "def robust_range(arrs):\n",
    "    valid = [a[np.isfinite(a)] for a in arrs if a is not None]\n",
    "    valid = [v for v in valid if v.size]\n",
    "    if not valid: return (0,1)\n",
    "    vv = np.concatenate(valid)\n",
    "    return np.percentile(vv, [1,99])\n",
    "\n",
    "for li, wl in enumerate(resampled_wls):\n",
    "    # 找 Landsat index\n",
    "    L_index = None\n",
    "    for k,v in PAIR_L2G.items():\n",
    "        if v == wl:\n",
    "            L_index = k; break\n",
    "    if L_index is None: continue\n",
    "    G = resampled_arrays[li]\n",
    "    L = landsat_data['data'][L_index]\n",
    "    maskG = np.isfinite(G); maskL = np.isfinite(L)\n",
    "    if maskG.sum()==0 or maskL.sum()==0:\n",
    "        print('跳过 wl', wl, '有效像元不足'); continue\n",
    "    vmin, vmax = robust_range([G[maskG], L[maskL]])\n",
    "    plt.figure(figsize=(6.4,4.2))\n",
    "    plt.hist(L[maskL], bins=60, range=(vmin,vmax), alpha=0.6, label='Landsat', density=True)\n",
    "    plt.hist(G[maskG], bins=60, range=(vmin,vmax), alpha=0.6, label='GOCI resampled', density=True)\n",
    "    plt.title(f'Histogram ~{wl}nm ({RESAMPLE_METHOD})')\n",
    "    plt.xlabel('Radiance')\n",
    "    plt.ylabel('Density')\n",
    "    plt.legend()\n",
    "    plt.tight_layout()\n",
    "    outp = os.path.join(hist_dir, f'hist_resample_{wl}nm.png')\n",
    "    plt.savefig(outp, dpi=130)\n",
    "    plt.close()\n",
    "    print('保存:', outp)"
   ]
  },
  {
   "cell_type": "markdown",
   "id": "d8f30ab8",
   "metadata": {},
   "source": [
    "## 13. 性能与内存优化建议\n",
    "1. 半径不要过大：500 m 分辨率源 -> 1~2 km 半径通常足够；过大显著增加 KD 树查询耗时。\n",
    "2. 逐波段即写：若内存紧张，可重采样一个写一个，不缓存 `resampled_arrays`。\n",
    "3. 使用 `resample_nearest` 做初步分析，确认流程后再尝试 `gauss`。\n",
    "4. 预先把源 outside 区域设为 NaN（已做），减少参与计算的点数。\n",
    "5. 可尝试分块重采样（需自实现窗口切片 + 组合），或考虑 dask + pyresample（高级）。\n",
    "6. 若后续仅做统计回归，可降采样目标网格 (e.g., 每 2~3 像元取一) 加速。"
   ]
  },
  {
   "cell_type": "markdown",
   "id": "cc9cdc1e",
   "metadata": {},
   "source": [
    "## 14. 封装一键运行函数\n",
    "方便你修改参数后直接重新跑完整流程。"
   ]
  },
  {
   "cell_type": "code",
   "execution_count": null,
   "id": "cc5dec82",
   "metadata": {},
   "outputs": [],
   "source": [
    "def run_all():\n",
    "    # 重新读取（假设可能修改参数后）\n",
    "    g = read_goci_subset(GOCI_NC)\n",
    "    Ld = read_landsat_tif(LANDSAT_TIF)\n",
    "    src = geometry.SwathDefinition(lons=g['lon'], lats=g['lat'])\n",
    "    dst = geometry.SwathDefinition(lons=Ld['lon'], lats=Ld['lat'])\n",
    "    func, method = choose_resampler(USE_GAUSSIAN)\n",
    "    arrays = []\n",
    "    for wl in sorted(GOCI_BANDS.keys()):\n",
    "        arr = g['bands'][wl]\n",
    "        arrays.append(func(src, dst, arr).astype(np.float32))\n",
    "    write_resampled_tif(OUT_TIF, arrays, Ld, sorted(GOCI_BANDS.keys()))\n",
    "    if SAVE_NPY:\n",
    "        meta = {'wavelengths': sorted(GOCI_BANDS.keys()), 'method': method}\n",
    "        for wl, arr in zip(sorted(GOCI_BANDS.keys()), arrays):\n",
    "            np.save(os.path.join(NPY_DIR, f'goci_resample_{wl}nm.npy'), arr)\n",
    "        with open(os.path.join(NPY_DIR, 'meta.json'), 'w') as f:\n",
    "            json.dump(meta, f, indent=2)\n",
    "    pairwise_stats(arrays, Ld['data'])\n",
    "    print('run_all 完成')\n",
    "\n",
    "# 直接调用快速运行（如不需要可注释）\n",
    "# run_all()"
   ]
  }
 ],
 "metadata": {
  "kernelspec": {
   "display_name": "ptc",
   "language": "python",
   "name": "python3"
  },
  "language_info": {
   "codemirror_mode": {
    "name": "ipython",
    "version": 3
   },
   "file_extension": ".py",
   "mimetype": "text/x-python",
   "name": "python",
   "nbconvert_exporter": "python",
   "pygments_lexer": "ipython3",
   "version": "3.10.16"
  }
 },
 "nbformat": 4,
 "nbformat_minor": 5
}
