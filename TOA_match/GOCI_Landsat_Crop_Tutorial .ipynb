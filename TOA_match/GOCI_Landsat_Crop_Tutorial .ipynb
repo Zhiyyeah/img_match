{
 "cells": [
  {
   "cell_type": "markdown",
   "id": "faf367fc",
   "metadata": {},
   "source": [
    "\n",
    "# GOCI-2 × Landsat 范围裁剪教学 Notebook\n",
    "\n",
    "本 Notebook 将**逐步演示**：\n",
    "1. 如何读取 **Landsat GeoTIFF** 的**元数据（metadata）**与**空间范围（bounds）**；\n",
    "2. 如何将该范围**转换为 WGS84（经纬度）**；\n",
    "3. 如何读取 **GOCI-2 L1B** 的 `latitude/longitude`；\n",
    "4. 如何在 GOCI 网格上根据 Landsat 的范围**计算裁剪切片**；\n",
    "5. 如何**裁剪保留指定波段（3,4,6,8,12）**并写出新的 NetCDF 文件；\n",
    "6. 如何对输出进行**快速检查与验证**。\n",
    "\n",
    "> 说明：本教程**不做重采样**，仅按范围做矩形裁剪；严格配准可在后续用 `pyresample` 完成。\n"
   ]
  },
  {
   "cell_type": "markdown",
   "id": "3be8661e",
   "metadata": {},
   "source": [
    "\n",
    "## 0. 环境与依赖\n",
    "\n",
    "需要安装：`rasterio`, `netCDF4`, `numpy`, `matplotlib`。  \n",
    "下面先检查一下环境。\n"
   ]
  },
  {
   "cell_type": "code",
   "execution_count": 1,
   "id": "ee33dcce",
   "metadata": {},
   "outputs": [
    {
     "name": "stdout",
     "output_type": "stream",
     "text": [
      "✓ rasterio 1.4.3\n",
      "✓ netCDF4 1.7.2\n",
      "✓ numpy 2.2.4\n",
      "✓ matplotlib 3.10.5\n",
      "Python 3.10.16 (main, Dec 11 2024, 10:22:29) [Clang 14.0.6 ]\n"
     ]
    }
   ],
   "source": [
    "\n",
    "import sys, importlib\n",
    "\n",
    "def _chk(mod):\n",
    "    try:\n",
    "        m = importlib.import_module(mod)\n",
    "        print(f\"✓ {mod} {getattr(m, '__version__', '')}\")\n",
    "    except Exception as e:\n",
    "        print(f\"✗ {mod} 未安装：{e}\")\n",
    "\n",
    "for m in [\"rasterio\", \"netCDF4\", \"numpy\", \"matplotlib\"]:\n",
    "    _chk(m)\n",
    "print(\"Python\", sys.version)\n"
   ]
  },
  {
   "cell_type": "code",
   "execution_count": 2,
   "id": "9a28bdd3",
   "metadata": {},
   "outputs": [
    {
     "name": "stdout",
     "output_type": "stream",
     "text": [
      "当前路径: /Users/zy/Python_code/My_Git/img_match/TOA_match\n"
     ]
    }
   ],
   "source": [
    "import os\n",
    "\n",
    "# 输出当前工作路径\n",
    "print(\"当前路径:\", os.getcwd())\n"
   ]
  },
  {
   "cell_type": "markdown",
   "id": "e85dbe9a",
   "metadata": {},
   "source": [
    "\n",
    "## 1. 路径设置（按需修改）\n",
    "\n",
    "将以下路径改为你本地的实际位置：\n",
    "- `goci_nc`：GOCI-2 L1B 输入文件（`.nc`）；\n",
    "- `ref_tif`：Landsat 参考影像（多波段 TOA/辐亮度 TIF）；\n",
    "- `out_nc`：输出的裁剪后 NetCDF 文件路径。\n"
   ]
  },
  {
   "cell_type": "code",
   "execution_count": 3,
   "id": "02c3cc1c",
   "metadata": {},
   "outputs": [
    {
     "name": "stdout",
     "output_type": "stream",
     "text": [
      "路径检查通过。\n"
     ]
    }
   ],
   "source": [
    "\n",
    "import os\n",
    "\n",
    "# ======== 按需修改为你的实际路径 ========\n",
    "goci_nc = r\"../SR_Imagery/GK2_GOCI2_L1B_20250504_021530_LA_S007.nc\"\n",
    "ref_tif  = r\"../SR_Imagery/LC09_L1TP_116035_20250504_20250504_02_T1/LC09_L1TP_116035_20250504_20250504_02_T1_TOA_RAD_B1-2-3-4-5.tif\"\n",
    "out_nc   = r\"goci_subset_5bands1.nc\"\n",
    "keep_indices = [3, 4, 6, 8, 12]   # 1-based\n",
    "# =====================================\n",
    "\n",
    "assert os.path.exists(goci_nc), f\"GOCI 文件不存在：{goci_nc}\"\n",
    "assert os.path.exists(ref_tif), f\"参考 TIF 不存在：{ref_tif}\"\n",
    "print(\"路径检查通过。\")\n"
   ]
  },
  {
   "cell_type": "markdown",
   "id": "862ca061",
   "metadata": {},
   "source": [
    "\n",
    "## 2. 读取 Landsat GeoTIFF 的 **metadata** 与 **bounds**\n",
    "\n",
    "- `ds.bounds` 返回在 `ds.crs` 坐标系下的外接矩形范围（left, bottom, right, top）；  \n",
    "- `ds.crs` 是坐标参考系；  \n",
    "- `ds.transform` 是仿射变换（像元到投影坐标）；  \n",
    "- `ds.width/height` 是栅格尺寸；  \n",
    "- `ds.res` 是像元大小；  \n",
    "- `ds.tags()` / `ds.tags(band=i)` 读取文件/波段元数据。\n"
   ]
  },
  {
   "cell_type": "code",
   "execution_count": 4,
   "id": "32cc6961",
   "metadata": {},
   "outputs": [
    {
     "name": "stdout",
     "output_type": "stream",
     "text": [
      "CRS: EPSG:32652\n",
      "Size (width, height): (7841, 7961)\n",
      "Resolution (xres, yres): (30.0, 30.0)\n",
      "Transform: | 30.00, 0.00, 127485.00|\n",
      "| 0.00,-30.00, 4111515.00|\n",
      "| 0.00, 0.00, 1.00|\n",
      "Bounds (in CRS): BoundingBox(left=127485.0, bottom=3872685.0, right=362715.0, top=4111515.0)\n",
      "\n",
      "[File-level tags metadata]\n",
      "{'AREA_OR_POINT': 'Area'}\n",
      "\n",
      "[Band-1 tags metadata]\n",
      "{}\n"
     ]
    }
   ],
   "source": [
    "\n",
    "import rasterio\n",
    "from pprint import pprint\n",
    "\n",
    "with rasterio.open(ref_tif) as ds:\n",
    "    print(\"CRS:\", ds.crs)\n",
    "    print(\"Size (width, height):\", (ds.width, ds.height))\n",
    "    print(\"Resolution (xres, yres):\", ds.res)\n",
    "    print(\"Transform:\", ds.transform)\n",
    "    print(\"Bounds (in CRS):\", ds.bounds)\n",
    "\n",
    "    print(\"\\n[File-level tags metadata]\")\n",
    "    pprint(ds.tags())\n",
    "\n",
    "    # 如果需要，查看某个波段的元数据（注意 band 索引从 1 开始）\n",
    "    try:\n",
    "        print(\"\\n[Band-1 tags metadata]\")\n",
    "        pprint(ds.tags(1))\n",
    "    except Exception as e:\n",
    "        print(\"读取 Band-1 tags 失败：\", e)\n"
   ]
  },
  {
   "cell_type": "code",
   "execution_count": 5,
   "id": "879ceaba",
   "metadata": {},
   "outputs": [
    {
     "name": "stdout",
     "output_type": "stream",
     "text": [
      "CRS: EPSG:32652\n",
      "Transform: | 30.00, 0.00, 127485.00|\n",
      "| 0.00,-30.00, 4111515.00|\n",
      "| 0.00, 0.00, 1.00|\n",
      "Bounds (in CRS): BoundingBox(left=127485.0, bottom=3872685.0, right=362715.0, top=4111515.0)\n"
     ]
    }
   ],
   "source": [
    "with rasterio.open(ref_tif) as ds:\n",
    "    print(\"CRS:\", ds.crs)\n",
    "    print(\"Transform:\", ds.transform)\n",
    "    print(\"Bounds (in CRS):\", ds.bounds)\n"
   ]
  },
  {
   "cell_type": "markdown",
   "id": "7b944448",
   "metadata": {},
   "source": [
    "\n",
    "## 3. 将 **bounds** 转换到 WGS84（经纬度）\n",
    "\n",
    "使用 `rasterio.warp.transform_bounds(src_crs, 'EPSG:4326', ...)`。  \n",
    "`densify_pts=21` 会在边界上加密采样点，提升曲边投影下范围转换的精度。\n"
   ]
  },
  {
   "cell_type": "code",
   "execution_count": 8,
   "id": "a8a95388",
   "metadata": {},
   "outputs": [
    {
     "name": "stdout",
     "output_type": "stream",
     "text": [
      "WGS84 bbox: lon[124.810170, 127.495823], lat[34.928266, 37.139942]\n"
     ]
    }
   ],
   "source": [
    "\n",
    "from rasterio.warp import transform_bounds\n",
    "\n",
    "with rasterio.open(ref_tif) as ds:\n",
    "    b = ds.bounds\n",
    "    minx, miny, maxx, maxy = transform_bounds(\n",
    "        ds.crs, \"EPSG:4326\", b.left, b.bottom, b.right, b.top, densify_pts=21\n",
    "    )\n",
    "print(f\"WGS84 bbox: lon[{minx:.6f}, {maxx:.6f}], lat[{miny:.6f}, {maxy:.6f}]\")\n"
   ]
  },
  {
   "cell_type": "markdown",
   "id": "4243d7c9",
   "metadata": {},
   "source": [
    "\n",
    "## 4. 快速可视化 Landsat 的 WGS84 范围（矩形）\n",
    "\n",
    "仅作为示意：使用 `matplotlib` 画出经纬度外接矩形。\n"
   ]
  },
  {
   "cell_type": "code",
   "execution_count": 17,
   "id": "cc804d9b",
   "metadata": {},
   "outputs": [
    {
     "data": {
      "image/png": "[encoded data removed]",
      "text/plain": [
       "<Figure size 500x400 with 1 Axes>"
      ]
     },
     "metadata": {},
     "output_type": "display_data"
    }
   ],
   "source": [
    "\n",
    "import matplotlib.pyplot as plt\n",
    "\n",
    "xs = [minx, maxx, maxx, minx, minx]\n",
    "ys = [miny, miny, maxy, maxy, miny]\n",
    "\n",
    "plt.figure(figsize=(5,4))\n",
    "plt.plot(xs, ys)\n",
    "plt.xlabel(\"Longitude (deg)\"); plt.ylabel(\"Latitude (deg)\")\n",
    "plt.title(\"WGS84 extent of the Landsat reference\")\n",
    "plt.grid(True)\n",
    "plt.show()\n"
   ]
  },
  {
   "cell_type": "markdown",
   "id": "21b9e58f",
   "metadata": {},
   "source": [
    "\n",
    "## 5. 读取 GOCI-2 L1B 的 `latitude/longitude`\n",
    "\n",
    "- GOCI L1B 中经纬度通常位于 `navigation_data/latitude` 与 `navigation_data/longitude`；  \n",
    "- 这里只做**范围裁剪**，因此无需重投影。  \n",
    "- 我们先检查经纬度矩阵的形状、最小/最大值。\n"
   ]
  },
  {
   "cell_type": "code",
   "execution_count": null,
   "id": "380cf94d",
   "metadata": {},
   "outputs": [
    {
     "name": "stdout",
     "output_type": "stream",
     "text": [
      "GOCI lat/lon shape: (2780, 2780)\n",
      "lat min/max: 30.66546630859375 39.28562927246094\n",
      "lon min/max: 121.99646759033203 130.40538024902344\n"
     ]
    }
   ],
   "source": [
    "\n",
    "import numpy as np\n",
    "from netCDF4 import Dataset\n",
    "\n",
    "with Dataset(goci_nc, \"r\") as nc:\n",
    "    lat = nc[\"navigation_data\"][\"latitude\"][:]\n",
    "    lon = nc[\"navigation_data\"][\"longitude\"][:]\n",
    "\n",
    "lat = np.asarray(lat)\n",
    "lon = np.asarray(lon)\n",
    "assert lat.shape == lon.shape, f\"lat/lon 形状不一致：{lat.shape} vs {lon.shape}\"\n",
    "print(\"GOCI lat/lon shape:\", lat.shape)\n",
    "print(\"lat min/max:\", float(np.nanmin(lat)), float(np.nanmax(lat)))\n",
    "print(\"lon min/max:\", float(np.nanmin(lon)), float(np.nanmax(lon)))\n"
   ]
  },
  {
   "cell_type": "markdown",
   "id": "9bf1b58d",
   "metadata": {},
   "source": [
    "\n",
    "## 6. 在 GOCI 网格上计算裁剪切片\n",
    "\n",
    "思路：\n",
    "1. 在经纬度网格上构造布尔掩膜 `inside`，筛选落入 Landsat 范围（WGS84）的像元；  \n",
    "2. 沿行/列方向求 `any`，获得需要保留的行列索引；  \n",
    "3. 取最小/最大行列索引并各扩展 1 个像元，形成半开区间 `[r0:r1), [c0:c1)`。\n"
   ]
  },
  {
   "cell_type": "code",
   "execution_count": 21,
   "id": "02e19504",
   "metadata": {},
   "outputs": [
    {
     "name": "stdout",
     "output_type": "stream",
     "text": [
      "裁剪切片 rows[640:1346] cols[852:1808] -> 形状 (706, 956)\n"
     ]
    }
   ],
   "source": [
    "\n",
    "def compute_slice_from_bbox(lat, lon, minx, miny, maxx, maxy):\n",
    "    inside = (lon >= minx) & (lon <= maxx) & (lat >= miny) & (lat <= maxy)\n",
    "    if not np.any(inside):\n",
    "        raise RuntimeError(\"裁剪失败：参考范围与 GOCI 网格不相交。\")\n",
    "    rows = np.any(inside, axis=1)\n",
    "    cols = np.any(inside, axis=0)\n",
    "    r_idx = np.where(rows)[0]\n",
    "    c_idx = np.where(cols)[0]\n",
    "    r0, r1 = int(r_idx.min()), int(r_idx.max()) + 1\n",
    "    c0, c1 = int(c_idx.min()), int(c_idx.max()) + 1\n",
    "    return r0, r1, c0, c1\n",
    "\n",
    "r0, r1, c0, c1 = compute_slice_from_bbox(lat, lon, minx, miny, maxx, maxy)\n",
    "print(f\"裁剪切片 rows[{r0}:{r1}] cols[{c0}:{c1}] -> 形状 {(r1-r0, c1-c0)}\")\n"
   ]
  },
  {
   "cell_type": "markdown",
   "id": "eca08a0c",
   "metadata": {},
   "source": [
    "\n",
    "## 7. 指定要保留的 GOCI 波段\n",
    "\n",
    "GOCI-2 L1B 中常见辐亮度变量：\n",
    "`L_TOA_380, L_TOA_412, L_TOA_443, L_TOA_490, L_TOA_510, L_TOA_555,\n",
    " L_TOA_620, L_TOA_660, L_TOA_680, L_TOA_709, L_TOA_745, L_TOA_865`。\n",
    "\n",
    "这里保留 **3,4,6,8,12**（1-based），即：443, 490, 555, 660, 865。\n"
   ]
  },
  {
   "cell_type": "code",
   "execution_count": 22,
   "id": "c7ec1002",
   "metadata": {},
   "outputs": [
    {
     "name": "stdout",
     "output_type": "stream",
     "text": [
      "将保留的变量： ['L_TOA_443', 'L_TOA_490', 'L_TOA_555', 'L_TOA_660', 'L_TOA_865']\n"
     ]
    }
   ],
   "source": [
    "\n",
    "BAND_INDEX_TO_NAME = {\n",
    "    1: \"L_TOA_380\",\n",
    "    2: \"L_TOA_412\",\n",
    "    3: \"L_TOA_443\",\n",
    "    4: \"L_TOA_490\",\n",
    "    5: \"L_TOA_510\",\n",
    "    6: \"L_TOA_555\",\n",
    "    7: \"L_TOA_620\",\n",
    "    8: \"L_TOA_660\",\n",
    "    9: \"L_TOA_680\",\n",
    "    10:\"L_TOA_709\",\n",
    "    11:\"L_TOA_745\",\n",
    "    12:\"L_TOA_865\",\n",
    "}\n",
    "\n",
    "# 校验 keep_indices 合法性\n",
    "for k in keep_indices:\n",
    "    assert k in BAND_INDEX_TO_NAME, f\"非法波段索引：{k}\"\n",
    "print(\"将保留的变量：\", [BAND_INDEX_TO_NAME[i] for i in keep_indices])\n"
   ]
  },
  {
   "cell_type": "markdown",
   "id": "fa946786",
   "metadata": {},
   "source": [
    "\n",
    "## 8. 裁剪波段数据（仅范围，不重采样）\n",
    "\n",
    "- 读取 `geophysical_data/{L_TOA_*}`；\n",
    "- 应用切片 `[r0:r1, c0:c1]`；\n",
    "- 用变量自身的 `_FillValue` 将无效值暂记为 `NaN`（便于统计）；\n",
    "- 暂存在内存中，准备写出。\n"
   ]
  },
  {
   "cell_type": "code",
   "execution_count": null,
   "id": "947be60d",
   "metadata": {},
   "outputs": [],
   "source": [
    "\n",
    "band_vars = {}\n",
    "band_attrs = {}\n",
    "fillvals = {}\n",
    "\n",
    "with Dataset(goci_nc, \"r\") as nc:\n",
    "    geo_grp = nc[\"geophysical_data\"]\n",
    "    for idx in keep_indices:\n",
    "        vname = BAND_INDEX_TO_NAME[idx]\n",
    "        if vname not in geo_grp.variables:\n",
    "            raise KeyError(f\"缺少变量 geophysical_data/{vname}\")\n",
    "        var = geo_grp[vname]\n",
    "        attrs = {att: getattr(var, att) for att in var.ncattrs()}\n",
    "        fv = attrs.get(\"_FillValue\", None)\n",
    "\n",
    "        data_sub = var[r0:r1, c0:c1]\n",
    "        if fv is not None:\n",
    "            data_sub = np.where(data_sub == fv, np.nan, data_sub)\n",
    "\n",
    "        band_vars[vname] = data_sub.astype(\"float32\", copy=False)\n",
    "        band_attrs[vname] = attrs\n",
    "        fillvals[vname] = fv\n",
    "\n",
    "lat_sub = lat[r0:r1, c0:c1].astype(\"float32\", copy=False)\n",
    "lon_sub = lon[r0:r1, c0:c1].astype(\"float32\", copy=False)\n",
    "\n",
    "print(\"裁剪完成。裁剪后形状：\", lat_sub.shape)\n",
    "for k, v in band_vars.items():\n",
    "    print(k, \"min/max (忽略NaN):\", float(np.nanmin(v)), float(np.nanmax(v)))\n"
   ]
  },
  {
   "cell_type": "markdown",
   "id": "4de73cd9",
   "metadata": {},
   "source": [
    "\n",
    "## 9. 写出裁剪后的 NetCDF\n",
    "\n",
    "- 创建维度 `y, x`；  \n",
    "- 写入 `latitude/longitude`；  \n",
    "- 写入各 `L_TOA_*` 变量，并尽量保留原始属性（不覆盖 `_FillValue`）；  \n",
    "- 默认单位若缺失，补充为 `W m-2 sr-1 um-1`。\n"
   ]
  },
  {
   "cell_type": "code",
   "execution_count": null,
   "id": "af5f7321",
   "metadata": {},
   "outputs": [],
   "source": [
    "\n",
    "# 写出 NC\n",
    "os.makedirs(os.path.dirname(os.path.abspath(out_nc)), exist_ok=True)\n",
    "\n",
    "from netCDF4 import Dataset as _DS\n",
    "\n",
    "with _DS(out_nc, \"w\", format=\"NETCDF4\") as dst:\n",
    "    ny, nx = lat_sub.shape\n",
    "    dst.createDimension(\"y\", ny)\n",
    "    dst.createDimension(\"x\", nx)\n",
    "\n",
    "    # 全局属性\n",
    "    dst.source  = \"Cropped from GOCI-2 L1B by Landsat extent\"\n",
    "    dst.history = \"created by tutorial notebook (range crop only, no resampling)\"\n",
    "    dst.note    = \"Rectangle crop in WGS84 bbox; for strict co-registration use pyresample.\"\n",
    "    dst.keep_band_indices = \",\".join(map(str, keep_indices))\n",
    "    dst.keep_band_names   = \",\".join([BAND_INDEX_TO_NAME[i] for i in keep_indices])\n",
    "\n",
    "    # lat/lon\n",
    "    v_lat = dst.createVariable(\"latitude\",  \"f4\", (\"y\",\"x\"), zlib=True, complevel=4)\n",
    "    v_lon = dst.createVariable(\"longitude\", \"f4\", (\"y\",\"x\"), zlib=True, complevel=4)\n",
    "    v_lat.long_name = \"latitude\";  v_lat.units = \"degrees_north\"\n",
    "    v_lon.long_name = \"longitude\"; v_lon.units = \"degrees_east\"\n",
    "    v_lat[:] = lat_sub\n",
    "    v_lon[:] = lon_sub\n",
    "\n",
    "    # 波段\n",
    "    for vname, data_sub in band_vars.items():\n",
    "        fv = fillvals[vname]\n",
    "        if fv is None:\n",
    "            fv = -999.0\n",
    "        out = np.nan_to_num(data_sub, nan=fv).astype(\"f4\", copy=False)\n",
    "\n",
    "        v = dst.createVariable(vname, \"f4\", (\"y\",\"x\"), zlib=True, complevel=4, fill_value=fv)\n",
    "\n",
    "        # 恢复原属性（避免覆盖 _FillValue）\n",
    "        for k, val in band_attrs[vname].items():\n",
    "            if k == \"_FillValue\":\n",
    "                continue\n",
    "            try:\n",
    "                setattr(v, k, val)\n",
    "            except Exception:\n",
    "                pass\n",
    "\n",
    "        if not hasattr(v, \"units\"):\n",
    "            v.units = \"W m-2 sr-1 um-1\"\n",
    "        v[:] = out\n",
    "\n",
    "print(f\"[OK] 写出：{out_nc}\")\n"
   ]
  },
  {
   "cell_type": "markdown",
   "id": "1992e410",
   "metadata": {},
   "source": [
    "\n",
    "## 10. 结果验证（可选）\n",
    "\n",
    "快速打开输出文件，检查：变量清单、维度、统计量是否合理。\n"
   ]
  },
  {
   "cell_type": "code",
   "execution_count": null,
   "id": "a401e448",
   "metadata": {},
   "outputs": [],
   "source": [
    "\n",
    "from netCDF4 import Dataset as DS\n",
    "import numpy as np\n",
    "\n",
    "with DS(out_nc, \"r\") as nc:\n",
    "    print(\"维度：\", {k: len(v) for k, v in nc.dimensions.items()})\n",
    "    print(\"变量：\", list(nc.variables.keys()))\n",
    "    for name in nc.variables:\n",
    "        if name in [\"latitude\", \"longitude\"]:\n",
    "            arr = nc[name][:]\n",
    "            print(name, \"shape:\", arr.shape, \"min/max:\", float(np.nanmin(arr)), float(np.nanmax(arr)))\n",
    "    for name in nc.variables:\n",
    "        if name.startswith(\"L_TOA_\"):\n",
    "            arr = nc[name][:]\n",
    "            # 读取 _FillValue（若存在）并屏蔽\n",
    "            fv = getattr(nc[name], \"_FillValue\", None)\n",
    "            if fv is not None:\n",
    "                arr = np.where(arr == fv, np.nan, arr)\n",
    "            print(name, \"min/max (忽略NaN):\", float(np.nanmin(arr)), float(np.nanmax(arr)))\n"
   ]
  },
  {
   "cell_type": "markdown",
   "id": "f0f10477",
   "metadata": {},
   "source": [
    "\n",
    "## 备注\n",
    "\n",
    "- 本流程只 **按经纬度矩形范围裁剪**，不执行重采样；因此裁剪后的像元网格仍是 GOCI 原网格。  \n",
    "- 若需要将 GOCI 数据拟合到 Landsat 像元中心进行严格配准与插值，请使用 `pyresample`：\n",
    "  - 构造 `SwathDefinition`（由 `lat/lon` 构成）和 `AreaDefinition`（Landsat 投影与栅格）；\n",
    "  - 使用 `kd_tree.resample_nearest` 或 `resample_gauss` 等方法进行重采样。\n"
   ]
  }
 ],
 "metadata": {
  "kernelspec": {
   "display_name": "ptc",
   "language": "python",
   "name": "python3"
  },
  "language_info": {
   "codemirror_mode": {
    "name": "ipython",
    "version": 3
   },
   "file_extension": ".py",
   "mimetype": "text/x-python",
   "name": "python",
   "nbconvert_exporter": "python",
   "pygments_lexer": "ipython3",
   "version": "3.10.16"
  }
 },
 "nbformat": 4,
 "nbformat_minor": 5
}
