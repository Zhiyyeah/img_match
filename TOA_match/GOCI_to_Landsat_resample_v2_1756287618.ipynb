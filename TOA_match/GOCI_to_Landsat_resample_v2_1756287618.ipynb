{
 "cells": [
  {
   "cell_type": "markdown",
   "id": "3117fe07",
   "metadata": {},
   "source": [
    "# 使用 pyresample 将弯曲网格 GOCI 子集重采样到 Landsat 规则网格（5 波段批处理）"
   ]
  },
  {
   "cell_type": "markdown",
   "id": "4044fb87",
   "metadata": {},
   "source": [
    "**目标**：1) 5 波段上采样；2) 输出 GeoTIFF；3) 可选 NPY；4) 每波段三图对比。"
   ]
  },
  {
   "cell_type": "markdown",
   "id": "a2aca56f",
   "metadata": {},
   "source": [
    "## 0. 依赖"
   ]
  },
  {
   "cell_type": "code",
   "execution_count": 1,
   "id": "143b7834",
   "metadata": {},
   "outputs": [
    {
     "name": "stdout",
     "output_type": "stream",
     "text": [
      "✅ imports ok\n"
     ]
    }
   ],
   "source": [
    "\n",
    "import os, json, math, time\n",
    "import numpy as np\n",
    "import rasterio\n",
    "from rasterio.transform import Affine\n",
    "from rasterio.crs import CRS\n",
    "from netCDF4 import Dataset\n",
    "import matplotlib.pyplot as plt\n",
    "from pyproj import Transformer\n",
    "from pyresample import geometry, kd_tree\n",
    "print(\"✅ imports ok\")"
   ]
  },
  {
   "cell_type": "code",
   "execution_count": null,
   "id": "a78d0357",
   "metadata": {},
   "outputs": [
    {
     "name": "stdout",
     "output_type": "stream",
     "text": [
      "/Users/zy/Python_code/My_Git/img_match/TOA_match\n"
     ]
    }
   ],
   "source": [
    "print(os.getcwd())\n"
   ]
  },
  {
   "cell_type": "markdown",
   "id": "701d3b3f",
   "metadata": {},
   "source": [
    "## 1. 参数与路径"
   ]
  },
  {
   "cell_type": "code",
   "execution_count": 21,
   "id": "d8e79b77",
   "metadata": {},
   "outputs": [
    {
     "name": "stdout",
     "output_type": "stream",
     "text": [
      "✅ params ready\n"
     ]
    }
   ],
   "source": [
    "\n",
    "GOCI_NC = '../goci_subset_5bands.nc'\n",
    "LANDSAT_TIF = '../SR_Imagery/LC09_L1TP_116035_20250504_20250504_02_T1/LC09_L1TP_116035_20250504_20250504_02_T1_TOA_RAD_B1-2-3-4-5.tif'\n",
    "OUT_TIF   = '../outputs/goci_resampled_to_landsat.tif'\n",
    "SAVE_NPY  = True\n",
    "NPY_DIR   = '../outputs/npy'\n",
    "META_JSON = '../outputs/goci_to_landsat_meta.json'\n",
    "USE_GAUSSIAN = True\n",
    "ROI_METERS   = 800\n",
    "SIGMA_METERS = 320\n",
    "NEIGHBOURS   = 16\n",
    "FILL_VALUE   = np.nan\n",
    "NPROCS       = 1\n",
    "GOCI_BANDS = {443:'L_TOA_443', 490:'L_TOA_490', 555:'L_TOA_555', 660:'L_TOA_660', 865:'L_TOA_865'}\n",
    "LANDSAT_WAVELENGTHS = [443, 483, 561, 655, 865]\n",
    "PAIR_L2G = {0:443, 1:490, 2:555, 3:660, 4:865}\n",
    "AOI_BOUNDS = None\n",
    "GEOTIFF_NODATA = -9999.0\n",
    "os.makedirs(os.path.dirname(OUT_TIF), exist_ok=True)\n",
    "if SAVE_NPY: os.makedirs(NPY_DIR, exist_ok=True)\n",
    "os.makedirs(os.path.dirname(META_JSON), exist_ok=True)\n",
    "print(\"✅ params ready\")"
   ]
  },
  {
   "cell_type": "markdown",
   "id": "145f13a1",
   "metadata": {},
   "source": [
    "## 2. 数据读取"
   ]
  },
  {
   "cell_type": "code",
   "execution_count": 4,
   "id": "72cb6cfa",
   "metadata": {},
   "outputs": [],
   "source": [
    "\n",
    "def read_goci_subset(nc_path: str, bands_map: dict):\n",
    "    if not os.path.exists(nc_path): raise FileNotFoundError(nc_path)\n",
    "    with Dataset(nc_path, 'r') as ds:\n",
    "        nav = ds['navigation_data']; geo = ds['geophysical_data']\n",
    "        lat = np.array(nav['latitude'][:], dtype=np.float32)\n",
    "        lon = np.array(nav['longitude'][:], dtype=np.float32)\n",
    "        band_list, wl_order = [], []\n",
    "        for wl in sorted(bands_map.keys()):\n",
    "            var = geo[bands_map[wl]]; data = var[:]\n",
    "            arr = data.filled(np.nan).astype(np.float32) if np.ma.isMaskedArray(data) else np.array(data, dtype=np.float32)\n",
    "            if '_FillValue' in var.ncattrs():\n",
    "                try: fv = float(var.getncattr('_FillValue'))\n",
    "                except: fv = None\n",
    "                if fv is not None: arr = np.where(arr == fv, np.nan, arr)\n",
    "            band_list.append(arr); wl_order.append(wl)\n",
    "        data_array = np.stack(band_list, axis=-1)\n",
    "    print(\"GOCI:\", data_array.shape, \"(H,W,B)\")\n",
    "    return {'data': data_array, 'lat': lat, 'lon': lon, 'wl_order': wl_order}\n",
    "\n",
    "def read_landsat_tif(tif_path: str):\n",
    "    if not os.path.exists(tif_path): raise FileNotFoundError(tif_path)\n",
    "    with rasterio.open(tif_path) as ds:\n",
    "        stack = ds.read().astype(np.float32)\n",
    "        if ds.nodata is not None: stack = np.where(stack == ds.nodata, np.nan, stack)\n",
    "        H, W = ds.height, ds.width; T, crs = ds.transform, ds.crs\n",
    "        rows = np.arange(H); cols = np.arange(W); cgrid, rgrid = np.meshgrid(cols, rows)\n",
    "        x = T.c + T.a*(cgrid+0.5) + T.b*(rgrid+0.5); y = T.f + T.d*(cgrid+0.5) + T.e*(rgrid+0.5)\n",
    "        lon, lat = Transformer.from_crs(crs, 'EPSG:4326', always_xy=True).transform(x, y)\n",
    "    print(\"Landsat:\", stack.shape, \"(B,H,W)\")\n",
    "    return {'data': stack, 'lon': lon, 'lat': lat, 'transform': T, 'crs': crs}"
   ]
  },
  {
   "cell_type": "markdown",
   "id": "0c96bb34",
   "metadata": {},
   "source": [
    "## 3. 逐波段重采样"
   ]
  },
  {
   "cell_type": "code",
   "execution_count": 5,
   "id": "bde0aee3",
   "metadata": {},
   "outputs": [],
   "source": [
    "\n",
    "def resample_all_bands(goci_dict, landsat_dict, use_gauss=True,\n",
    "                       roi_m=800, sigma_m=320, neighbours=16, fill_value=np.nan, nprocs=1):\n",
    "    g_arr = goci_dict['data']; g_lat=goci_dict['lat']; g_lon=goci_dict['lon']; wl_order=goci_dict['wl_order']\n",
    "    L_lat=landsat_dict['lat']; L_lon=landsat_dict['lon']\n",
    "    source_swath = geometry.SwathDefinition(lons=g_lon, lats=g_lat)\n",
    "    target_swath = geometry.SwathDefinition(lons=L_lon, lats=L_lat)\n",
    "    print(\"Swath:\", g_lat.shape, \"->\", L_lat.shape)\n",
    "    outs, logs = [], []\n",
    "    for bi in range(g_arr.shape[-1]):\n",
    "        src = g_arr[:, :, bi]; src_masked = np.ma.array(src, mask=~np.isfinite(src))\n",
    "        t0 = time.time()\n",
    "        if use_gauss:\n",
    "            out = kd_tree.resample_gauss(source_swath, src_masked, target_swath,\n",
    "                                         radius_of_influence=roi_m, sigmas=sigma_m,\n",
    "                                         fill_value=fill_value, neighbours=neighbours,\n",
    "                                         reduce_data=True, with_uncert=False, nprocs=nprocs); method=\"gauss\"\n",
    "        else:\n",
    "            out = kd_tree.resample_nearest(source_swath, src_masked, target_swath,\n",
    "                                           radius_of_influence=roi_m, fill_value=fill_value); method=\"nearest\"\n",
    "        dt = time.time()-t0; finite=np.isfinite(out); ratio=float(finite.mean())\n",
    "        vmin=float(np.nanmin(out)) if finite.any() else float('nan')\n",
    "        vmax=float(np.nanmax(out)) if finite.any() else float('nan')\n",
    "        vmean=float(np.nanmean(out)) if finite.any() else float('nan')\n",
    "        print(f\"  band {bi} (wl={wl_order[bi]} nm) -> {out.shape}, {method}, {dt:.2f}s, finite={ratio*100:.2f}%\")\n",
    "        outs.append(out.astype(np.float32))\n",
    "        logs.append({\"band\":bi,\"wl_nm\":int(wl_order[bi]),\"method\":method,\"seconds\":round(dt,3),\n",
    "                     \"finite_ratio\":round(ratio,5),\"min\":vmin,\"max\":vmax,\"mean\":vmean})\n",
    "    return np.stack(outs, axis=0), logs"
   ]
  },
  {
   "cell_type": "markdown",
   "id": "66e050b2",
   "metadata": {},
   "source": [
    "## 4. 保存：GeoTIFF / NPY / Meta"
   ]
  },
  {
   "cell_type": "code",
   "execution_count": 6,
   "id": "9ab5d83d",
   "metadata": {},
   "outputs": [],
   "source": [
    "\n",
    "def save_geotiff(out_path, stack_BHW, transform, crs, nodata_value=-9999.0):\n",
    "    B,H,W = stack_BHW.shape\n",
    "    profile={\"driver\":\"GTiff\",\"dtype\":\"float32\",\"count\":B,\"height\":H,\"width\":W,\n",
    "             \"transform\":transform,\"crs\":crs,\"nodata\":nodata_value,\n",
    "             \"compress\":\"deflate\",\"predictor\":2,\"tiled\":True,\"blockxsize\":512,\"blockysize\":512}\n",
    "    data_to_write = np.where(np.isfinite(stack_BHW), stack_BHW, nodata_value).astype(np.float32)\n",
    "    with rasterio.open(out_path,\"w\",**profile) as dst:\n",
    "        for i in range(B): dst.write(data_to_write[i], i+1)\n",
    "    print(\"💾 GeoTIFF:\", out_path)\n",
    "\n",
    "def save_npys(npy_dir, stack_BHW, wl_order, save_stack=True):\n",
    "    os.makedirs(npy_dir, exist_ok=True)\n",
    "    for i, wl in enumerate(wl_order): np.save(os.path.join(npy_dir, f\"resampled_{wl}nm.npy\"), stack_BHW[i])\n",
    "    if save_stack: np.save(os.path.join(npy_dir, \"resampled_stack_BHW.npy\"), stack_BHW)\n",
    "    print(\"💾 NPY ->\", npy_dir)\n",
    "\n",
    "def save_meta_json(json_path, meta_dict):\n",
    "    with open(json_path,\"w\",encoding=\"utf-8\") as f: json.dump(meta_dict,f,ensure_ascii=False,indent=2)\n",
    "    print(\"💾 Meta:\", json_path)"
   ]
  },
  {
   "cell_type": "markdown",
   "id": "2e5f4619",
   "metadata": {},
   "source": [
    "## 5. 可视化对比"
   ]
  },
  {
   "cell_type": "code",
   "execution_count": 7,
   "id": "aa861548",
   "metadata": {},
   "outputs": [],
   "source": [
    "\n",
    "def robust_min_max(*arrays, pmin=2, pmax=98):\n",
    "    vals_list=[a[np.isfinite(a)] for a in arrays if a is not None and np.isfinite(a).any()]\n",
    "    if not vals_list: return 0.0,1.0\n",
    "    vals=np.concatenate(vals_list); v1,v2=np.percentile(vals,[pmin,pmax])\n",
    "    if not np.isfinite(v1) or not np.isfinite(v2) or v1==v2:\n",
    "        v1,v2=float(np.nanmin(vals)),float(np.nanmax(vals)); \n",
    "        if v1==v2: v2=v1+1e-6\n",
    "    return float(v1),float(v2)\n",
    "\n",
    "def crop_to_bounds(arr, lon, lat, bounds):\n",
    "    if bounds is None: return arr,lon,lat\n",
    "    lon_min,lon_max,lat_min,lat_max = bounds\n",
    "    mask=(lon>=lon_min)&(lon<=lon_max)&(lat>=lat_min)&(lat<=lat_max)\n",
    "    if not np.any(mask): return arr,lon,lat\n",
    "    rows=np.any(mask,axis=1); cols=np.any(mask,axis=0)\n",
    "    rmin,rmax=int(np.argmax(rows)), int(len(rows)-np.argmax(rows[::-1])-1)\n",
    "    cmin,cmax=int(np.argmax(cols)), int(len(cols)-np.argmax(cols[::-1])-1)\n",
    "    return arr[rmin:rmax+1, cmin:cmax+1], lon[rmin:rmax+1, cmin:cmax+1], lat[rmin:rmax+1, cmin:cmax+1]\n",
    "\n",
    "def quicklook(arr, lon=None, lat=None, max_pixels=2_000_000):\n",
    "    h,w=arr.shape; total=h*w\n",
    "    if total<=max_pixels:\n",
    "        stride=1; arr_sub=arr; lon_sub=lon; lat_sub=lat\n",
    "    else:\n",
    "        import math\n",
    "        stride=int(math.ceil((total/max_pixels)**0.5))\n",
    "        arr_sub=arr[::stride,::stride]\n",
    "        lon_sub=lon[::stride,::stride] if lon is not None else None\n",
    "        lat_sub=lat[::stride,::stride] if lat is not None else None\n",
    "    if lon_sub is not None and lat_sub is not None and np.isfinite(lon_sub).any() and np.isfinite(lat_sub).any():\n",
    "        extent=[float(np.nanmin(lon_sub)),float(np.nanmax(lon_sub)),\n",
    "                float(np.nanmin(lat_sub)),float(np.nanmax(lat_sub))]\n",
    "    else: extent=None\n",
    "    return arr_sub,stride,extent\n",
    "\n",
    "def save_band_comparisons(out_dir, band_idx, wl_g, goci_native, g_lon, g_lat,\n",
    "                          resampled, L_lon, L_lat, landsat_native, AOI_BOUNDS=None, vmin=None, vmax=None):\n",
    "    os.makedirs(out_dir, exist_ok=True)\n",
    "    g_native_crop,g_lon_crop,g_lat_crop=crop_to_bounds(goci_native,g_lon,g_lat,AOI_BOUNDS)\n",
    "    g_show,s_g,ext_g=quicklook(g_native_crop,g_lon_crop,g_lat_crop)\n",
    "    if vmin is None or vmax is None: v1,v2=robust_min_max(g_show)\n",
    "    else: v1,v2=vmin,vmax\n",
    "    plt.figure(figsize=(6,5)); plt.imshow(g_show,vmin=v1,vmax=v2,origin='upper',extent=ext_g); plt.grid(False)\n",
    "    plt.title(f\"GOCI original {wl_g} nm (stride {s_g})\"); plt.xlabel(\"Longitude\"); plt.ylabel(\"Latitude\")\n",
    "    plt.savefig(os.path.join(out_dir,f\"band{band_idx}_GOCI_{wl_g}nm.png\"),dpi=300,bbox_inches='tight'); plt.close()\n",
    "\n",
    "    r_crop,r_lon_crop,r_lat_crop=crop_to_bounds(resampled,L_lon,L_lat,AOI_BOUNDS)\n",
    "    r_show,s_r,ext_r=quicklook(r_crop,r_lon_crop,r_lat_crop)\n",
    "    plt.figure(figsize=(6,5)); plt.imshow(r_show,vmin=v1,vmax=v2,origin='upper',extent=ext_r); plt.grid(False)\n",
    "    plt.title(f\"GOCI→Landsat resampled {wl_g} nm (stride {s_r})\"); plt.xlabel(\"Longitude\"); plt.ylabel(\"Latitude\")\n",
    "    plt.savefig(os.path.join(out_dir,f\"band{band_idx}_Resampled_{wl_g}nm.png\"),dpi=300,bbox_inches='tight'); plt.close()\n",
    "\n",
    "    l_crop,l_lon_crop,l_lat_crop=crop_to_bounds(landsat_native,L_lon,L_lat,AOI_BOUNDS)\n",
    "    l_show,s_l,ext_l=quicklook(l_crop,l_lon_crop,l_lat_crop)\n",
    "    plt.figure(figsize=(6,5)); plt.imshow(l_show,vmin=v1,vmax=v2,origin='upper',extent=ext_l); plt.grid(False)\n",
    "    plt.title(f\"Landsat original (~{wl_g} nm) (stride {s_l})\"); plt.xlabel(\"Longitude\"); plt.ylabel(\"Latitude\")\n",
    "    plt.savefig(os.path.join(out_dir,f\"band{band_idx}_Landsat_{wl_g}nm.png\"),dpi=300,bbox_inches='tight'); plt.close()"
   ]
  },
  {
   "cell_type": "code",
   "execution_count": 13,
   "id": "83e477fe",
   "metadata": {},
   "outputs": [
    {
     "name": "stdout",
     "output_type": "stream",
     "text": [
      "GOCI: (669, 901, 5) (H,W,B)\n",
      "[443, 490, 555, 660, 865]\n"
     ]
    }
   ],
   "source": [
    "goci_data = read_goci_subset(GOCI_NC, GOCI_BANDS)\n",
    "print(goci_data['wl_order'])"
   ]
  },
  {
   "cell_type": "markdown",
   "id": "a314c1c1",
   "metadata": {},
   "source": [
    "## 6. 运行全流程"
   ]
  },
  {
   "cell_type": "code",
   "execution_count": 22,
   "id": "707d7bae",
   "metadata": {},
   "outputs": [
    {
     "name": "stdout",
     "output_type": "stream",
     "text": [
      "GOCI: (669, 901, 5) (H,W,B)\n",
      "Landsat: (5, 7961, 7841) (B,H,W)\n",
      "Swath: (669, 901) -> (7961, 7841)\n"
     ]
    },
    {
     "name": "stderr",
     "output_type": "stream",
     "text": [
      "/opt/anaconda3/envs/ptc/lib/python3.10/site-packages/pyresample/kd_tree.py:261: UserWarning: Possible more than 16 neighbours within 800 m for some data points\n",
      "  get_neighbour_info(source_geo_def,\n"
     ]
    },
    {
     "name": "stdout",
     "output_type": "stream",
     "text": [
      "  band 0 (wl=443 nm) -> (7961, 7841), gauss, 182.68s, finite=100.00%\n",
      "  band 1 (wl=490 nm) -> (7961, 7841), gauss, 188.62s, finite=100.00%\n",
      "  band 2 (wl=555 nm) -> (7961, 7841), gauss, 191.81s, finite=100.00%\n",
      "  band 3 (wl=660 nm) -> (7961, 7841), gauss, 193.06s, finite=100.00%\n",
      "  band 4 (wl=865 nm) -> (7961, 7841), gauss, 189.16s, finite=100.00%\n",
      "💾 GeoTIFF: ../outputs/goci_resampled_to_landsat.tif\n"
     ]
    },
    {
     "ename": "NotImplementedError",
     "evalue": "MaskedArray.tofile() not implemented yet.",
     "output_type": "error",
     "traceback": [
      "\u001b[0;31m---------------------------------------------------------------------------\u001b[0m",
      "\u001b[0;31mNotImplementedError\u001b[0m                       Traceback (most recent call last)",
      "Cell \u001b[0;32mIn[22], line 9\u001b[0m\n\u001b[1;32m      3\u001b[0m resampled_stack_BHW, logs \u001b[38;5;241m=\u001b[39m resample_all_bands(\n\u001b[1;32m      4\u001b[0m     goci_data, landsat_data,\n\u001b[1;32m      5\u001b[0m     use_gauss\u001b[38;5;241m=\u001b[39mUSE_GAUSSIAN, roi_m\u001b[38;5;241m=\u001b[39mROI_METERS, sigma_m\u001b[38;5;241m=\u001b[39mSIGMA_METERS,\n\u001b[1;32m      6\u001b[0m     neighbours\u001b[38;5;241m=\u001b[39mNEIGHBOURS, fill_value\u001b[38;5;241m=\u001b[39mFILL_VALUE, nprocs\u001b[38;5;241m=\u001b[39mNPROCS\n\u001b[1;32m      7\u001b[0m )\n\u001b[1;32m      8\u001b[0m save_geotiff(OUT_TIF, resampled_stack_BHW, landsat_data[\u001b[38;5;124m'\u001b[39m\u001b[38;5;124mtransform\u001b[39m\u001b[38;5;124m'\u001b[39m], landsat_data[\u001b[38;5;124m'\u001b[39m\u001b[38;5;124mcrs\u001b[39m\u001b[38;5;124m'\u001b[39m], GEOTIFF_NODATA)\n\u001b[0;32m----> 9\u001b[0m \u001b[38;5;28;01mif\u001b[39;00m SAVE_NPY: save_npys(NPY_DIR, resampled_stack_BHW, goci_data[\u001b[38;5;124m'\u001b[39m\u001b[38;5;124mwl_order\u001b[39m\u001b[38;5;124m'\u001b[39m], save_stack\u001b[38;5;241m=\u001b[39m\u001b[38;5;28;01mTrue\u001b[39;00m)\n\u001b[1;32m     10\u001b[0m meta\u001b[38;5;241m=\u001b[39m{\u001b[38;5;124m\"\u001b[39m\u001b[38;5;124mgoci_nc\u001b[39m\u001b[38;5;124m\"\u001b[39m:os\u001b[38;5;241m.\u001b[39mpath\u001b[38;5;241m.\u001b[39mabspath(GOCI_NC),\u001b[38;5;124m\"\u001b[39m\u001b[38;5;124mlandsat_tif\u001b[39m\u001b[38;5;124m\"\u001b[39m:os\u001b[38;5;241m.\u001b[39mpath\u001b[38;5;241m.\u001b[39mabspath(LANDSAT_TIF),\u001b[38;5;124m\"\u001b[39m\u001b[38;5;124mout_tif\u001b[39m\u001b[38;5;124m\"\u001b[39m:os\u001b[38;5;241m.\u001b[39mpath\u001b[38;5;241m.\u001b[39mabspath(OUT_TIF),\n\u001b[1;32m     11\u001b[0m       \u001b[38;5;124m\"\u001b[39m\u001b[38;5;124muse_gaussian\u001b[39m\u001b[38;5;124m\"\u001b[39m:USE_GAUSSIAN,\u001b[38;5;124m\"\u001b[39m\u001b[38;5;124mroi_m\u001b[39m\u001b[38;5;124m\"\u001b[39m:ROI_METERS,\u001b[38;5;124m\"\u001b[39m\u001b[38;5;124msigma_m\u001b[39m\u001b[38;5;124m\"\u001b[39m:SIGMA_METERS,\u001b[38;5;124m\"\u001b[39m\u001b[38;5;124mneighbours\u001b[39m\u001b[38;5;124m\"\u001b[39m:NEIGHBOURS,\u001b[38;5;124m\"\u001b[39m\u001b[38;5;124mnprocs\u001b[39m\u001b[38;5;124m\"\u001b[39m:NPROCS,\n\u001b[1;32m     12\u001b[0m       \u001b[38;5;124m\"\u001b[39m\u001b[38;5;124mgeotiff_nodata\u001b[39m\u001b[38;5;124m\"\u001b[39m:GEOTIFF_NODATA,\u001b[38;5;124m\"\u001b[39m\u001b[38;5;124mgoci_wavelength_order\u001b[39m\u001b[38;5;124m\"\u001b[39m:goci_data[\u001b[38;5;124m'\u001b[39m\u001b[38;5;124mwl_order\u001b[39m\u001b[38;5;124m'\u001b[39m],\u001b[38;5;124m\"\u001b[39m\u001b[38;5;124mlogs\u001b[39m\u001b[38;5;124m\"\u001b[39m:logs}\n\u001b[1;32m     13\u001b[0m \u001b[38;5;28;01mwith\u001b[39;00m \u001b[38;5;28mopen\u001b[39m(META_JSON,\u001b[38;5;124m\"\u001b[39m\u001b[38;5;124mw\u001b[39m\u001b[38;5;124m\"\u001b[39m,encoding\u001b[38;5;241m=\u001b[39m\u001b[38;5;124m\"\u001b[39m\u001b[38;5;124mutf-8\u001b[39m\u001b[38;5;124m\"\u001b[39m) \u001b[38;5;28;01mas\u001b[39;00m f: json\u001b[38;5;241m.\u001b[39mdump(meta,f,ensure_ascii\u001b[38;5;241m=\u001b[39m\u001b[38;5;28;01mFalse\u001b[39;00m,indent\u001b[38;5;241m=\u001b[39m\u001b[38;5;241m2\u001b[39m)\n",
      "Cell \u001b[0;32mIn[6], line 13\u001b[0m, in \u001b[0;36msave_npys\u001b[0;34m(npy_dir, stack_BHW, wl_order, save_stack)\u001b[0m\n\u001b[1;32m     11\u001b[0m \u001b[38;5;28;01mdef\u001b[39;00m\u001b[38;5;250m \u001b[39m\u001b[38;5;21msave_npys\u001b[39m(npy_dir, stack_BHW, wl_order, save_stack\u001b[38;5;241m=\u001b[39m\u001b[38;5;28;01mTrue\u001b[39;00m):\n\u001b[1;32m     12\u001b[0m     os\u001b[38;5;241m.\u001b[39mmakedirs(npy_dir, exist_ok\u001b[38;5;241m=\u001b[39m\u001b[38;5;28;01mTrue\u001b[39;00m)\n\u001b[0;32m---> 13\u001b[0m     \u001b[38;5;28;01mfor\u001b[39;00m i, wl \u001b[38;5;129;01min\u001b[39;00m \u001b[38;5;28menumerate\u001b[39m(wl_order): \u001b[43mnp\u001b[49m\u001b[38;5;241;43m.\u001b[39;49m\u001b[43msave\u001b[49m\u001b[43m(\u001b[49m\u001b[43mos\u001b[49m\u001b[38;5;241;43m.\u001b[39;49m\u001b[43mpath\u001b[49m\u001b[38;5;241;43m.\u001b[39;49m\u001b[43mjoin\u001b[49m\u001b[43m(\u001b[49m\u001b[43mnpy_dir\u001b[49m\u001b[43m,\u001b[49m\u001b[43m \u001b[49m\u001b[38;5;124;43mf\u001b[39;49m\u001b[38;5;124;43m\"\u001b[39;49m\u001b[38;5;124;43mresampled_\u001b[39;49m\u001b[38;5;132;43;01m{\u001b[39;49;00m\u001b[43mwl\u001b[49m\u001b[38;5;132;43;01m}\u001b[39;49;00m\u001b[38;5;124;43mnm.npy\u001b[39;49m\u001b[38;5;124;43m\"\u001b[39;49m\u001b[43m)\u001b[49m\u001b[43m,\u001b[49m\u001b[43m \u001b[49m\u001b[43mstack_BHW\u001b[49m\u001b[43m[\u001b[49m\u001b[43mi\u001b[49m\u001b[43m]\u001b[49m\u001b[43m)\u001b[49m\n\u001b[1;32m     14\u001b[0m     \u001b[38;5;28;01mif\u001b[39;00m save_stack: np\u001b[38;5;241m.\u001b[39msave(os\u001b[38;5;241m.\u001b[39mpath\u001b[38;5;241m.\u001b[39mjoin(npy_dir, \u001b[38;5;124m\"\u001b[39m\u001b[38;5;124mresampled_stack_BHW.npy\u001b[39m\u001b[38;5;124m\"\u001b[39m), stack_BHW)\n\u001b[1;32m     15\u001b[0m     \u001b[38;5;28mprint\u001b[39m(\u001b[38;5;124m\"\u001b[39m\u001b[38;5;124m💾 NPY ->\u001b[39m\u001b[38;5;124m\"\u001b[39m, npy_dir)\n",
      "File \u001b[0;32m/opt/anaconda3/envs/ptc/lib/python3.10/site-packages/numpy/lib/_npyio_impl.py:581\u001b[0m, in \u001b[0;36msave\u001b[0;34m(file, arr, allow_pickle, fix_imports)\u001b[0m\n\u001b[1;32m    579\u001b[0m \u001b[38;5;28;01mwith\u001b[39;00m file_ctx \u001b[38;5;28;01mas\u001b[39;00m fid:\n\u001b[1;32m    580\u001b[0m     arr \u001b[38;5;241m=\u001b[39m np\u001b[38;5;241m.\u001b[39masanyarray(arr)\n\u001b[0;32m--> 581\u001b[0m     \u001b[38;5;28;43mformat\u001b[39;49m\u001b[38;5;241;43m.\u001b[39;49m\u001b[43mwrite_array\u001b[49m\u001b[43m(\u001b[49m\u001b[43mfid\u001b[49m\u001b[43m,\u001b[49m\u001b[43m \u001b[49m\u001b[43marr\u001b[49m\u001b[43m,\u001b[49m\u001b[43m \u001b[49m\u001b[43mallow_pickle\u001b[49m\u001b[38;5;241;43m=\u001b[39;49m\u001b[43mallow_pickle\u001b[49m\u001b[43m,\u001b[49m\n\u001b[1;32m    582\u001b[0m \u001b[43m                       \u001b[49m\u001b[43mpickle_kwargs\u001b[49m\u001b[38;5;241;43m=\u001b[39;49m\u001b[38;5;28;43mdict\u001b[39;49m\u001b[43m(\u001b[49m\u001b[43mfix_imports\u001b[49m\u001b[38;5;241;43m=\u001b[39;49m\u001b[43mfix_imports\u001b[49m\u001b[43m)\u001b[49m\u001b[43m)\u001b[49m\n",
      "File \u001b[0;32m/opt/anaconda3/envs/ptc/lib/python3.10/site-packages/numpy/lib/format.py:754\u001b[0m, in \u001b[0;36mwrite_array\u001b[0;34m(fp, array, version, allow_pickle, pickle_kwargs)\u001b[0m\n\u001b[1;32m    752\u001b[0m \u001b[38;5;28;01melse\u001b[39;00m:\n\u001b[1;32m    753\u001b[0m     \u001b[38;5;28;01mif\u001b[39;00m isfileobj(fp):\n\u001b[0;32m--> 754\u001b[0m         \u001b[43marray\u001b[49m\u001b[38;5;241;43m.\u001b[39;49m\u001b[43mtofile\u001b[49m\u001b[43m(\u001b[49m\u001b[43mfp\u001b[49m\u001b[43m)\u001b[49m\n\u001b[1;32m    755\u001b[0m     \u001b[38;5;28;01melse\u001b[39;00m:\n\u001b[1;32m    756\u001b[0m         \u001b[38;5;28;01mfor\u001b[39;00m chunk \u001b[38;5;129;01min\u001b[39;00m numpy\u001b[38;5;241m.\u001b[39mnditer(\n\u001b[1;32m    757\u001b[0m                 array, flags\u001b[38;5;241m=\u001b[39m[\u001b[38;5;124m'\u001b[39m\u001b[38;5;124mexternal_loop\u001b[39m\u001b[38;5;124m'\u001b[39m, \u001b[38;5;124m'\u001b[39m\u001b[38;5;124mbuffered\u001b[39m\u001b[38;5;124m'\u001b[39m, \u001b[38;5;124m'\u001b[39m\u001b[38;5;124mzerosize_ok\u001b[39m\u001b[38;5;124m'\u001b[39m],\n\u001b[1;32m    758\u001b[0m                 buffersize\u001b[38;5;241m=\u001b[39mbuffersize, order\u001b[38;5;241m=\u001b[39m\u001b[38;5;124m'\u001b[39m\u001b[38;5;124mC\u001b[39m\u001b[38;5;124m'\u001b[39m):\n",
      "File \u001b[0;32m/opt/anaconda3/envs/ptc/lib/python3.10/site-packages/numpy/ma/core.py:6466\u001b[0m, in \u001b[0;36mMaskedArray.tofile\u001b[0;34m(self, fid, sep, format)\u001b[0m\n\u001b[1;32m   6453\u001b[0m \u001b[38;5;28;01mdef\u001b[39;00m\u001b[38;5;250m \u001b[39m\u001b[38;5;21mtofile\u001b[39m(\u001b[38;5;28mself\u001b[39m, fid, sep\u001b[38;5;241m=\u001b[39m\u001b[38;5;124m\"\u001b[39m\u001b[38;5;124m\"\u001b[39m, \u001b[38;5;28mformat\u001b[39m\u001b[38;5;241m=\u001b[39m\u001b[38;5;124m\"\u001b[39m\u001b[38;5;132;01m%s\u001b[39;00m\u001b[38;5;124m\"\u001b[39m):\n\u001b[1;32m   6454\u001b[0m \u001b[38;5;250m    \u001b[39m\u001b[38;5;124;03m\"\"\"\u001b[39;00m\n\u001b[1;32m   6455\u001b[0m \u001b[38;5;124;03m    Save a masked array to a file in binary format.\u001b[39;00m\n\u001b[1;32m   6456\u001b[0m \n\u001b[0;32m   (...)\u001b[0m\n\u001b[1;32m   6464\u001b[0m \n\u001b[1;32m   6465\u001b[0m \u001b[38;5;124;03m    \"\"\"\u001b[39;00m\n\u001b[0;32m-> 6466\u001b[0m     \u001b[38;5;28;01mraise\u001b[39;00m \u001b[38;5;167;01mNotImplementedError\u001b[39;00m(\u001b[38;5;124m\"\u001b[39m\u001b[38;5;124mMaskedArray.tofile() not implemented yet.\u001b[39m\u001b[38;5;124m\"\u001b[39m)\n",
      "\u001b[0;31mNotImplementedError\u001b[0m: MaskedArray.tofile() not implemented yet."
     ]
    }
   ],
   "source": [
    "\n",
    "goci_data = read_goci_subset(GOCI_NC, GOCI_BANDS)\n",
    "landsat_data = read_landsat_tif(LANDSAT_TIF)\n",
    "resampled_stack_BHW, logs = resample_all_bands(\n",
    "    goci_data, landsat_data,\n",
    "    use_gauss=USE_GAUSSIAN, roi_m=ROI_METERS, sigma_m=SIGMA_METERS,\n",
    "    neighbours=NEIGHBOURS, fill_value=FILL_VALUE, nprocs=NPROCS\n",
    ")\n",
    "save_geotiff(OUT_TIF, resampled_stack_BHW, landsat_data['transform'], landsat_data['crs'], GEOTIFF_NODATA)\n",
    "if SAVE_NPY: save_npys(NPY_DIR, resampled_stack_BHW, goci_data['wl_order'], save_stack=True)\n",
    "meta={\"goci_nc\":os.path.abspath(GOCI_NC),\"landsat_tif\":os.path.abspath(LANDSAT_TIF),\"out_tif\":os.path.abspath(OUT_TIF),\n",
    "      \"use_gaussian\":USE_GAUSSIAN,\"roi_m\":ROI_METERS,\"sigma_m\":SIGMA_METERS,\"neighbours\":NEIGHBOURS,\"nprocs\":NPROCS,\n",
    "      \"geotiff_nodata\":GEOTIFF_NODATA,\"goci_wavelength_order\":goci_data['wl_order'],\"logs\":logs}\n",
    "with open(META_JSON,\"w\",encoding=\"utf-8\") as f: json.dump(meta,f,ensure_ascii=False,indent=2)\n",
    "fig_dir='outputs/figs_compare'; os.makedirs(fig_dir, exist_ok=True)\n",
    "for bi, wl in enumerate(goci_data['wl_order']):\n",
    "    landsat_idx=int(np.argmin(np.abs(np.array(LANDSAT_WAVELENGTHS)-wl)))\n",
    "    save_band_comparisons(fig_dir, bi, wl,\n",
    "        goci_data['data'][:, :, bi], goci_data['lon'], goci_data['lat'],\n",
    "        resampled_stack_BHW[bi, :, :], landsat_data['lon'], landsat_data['lat'],\n",
    "        landsat_data['data'][landsat_idx, :, :], AOI_BOUNDS=AOI_BOUNDS)\n",
    "print(\"✅ 全流程完成\")"
   ]
  }
 ],
 "metadata": {
  "kernelspec": {
   "display_name": "ptc",
   "language": "python",
   "name": "python3"
  },
  "language_info": {
   "codemirror_mode": {
    "name": "ipython",
    "version": 3
   },
   "file_extension": ".py",
   "mimetype": "text/x-python",
   "name": "python",
   "nbconvert_exporter": "python",
   "pygments_lexer": "ipython3",
   "version": "3.10.16"
  }
 },
 "nbformat": 4,
 "nbformat_minor": 5
}
